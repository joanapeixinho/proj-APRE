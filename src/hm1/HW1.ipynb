{
 "cells": [
  {
   "cell_type": "markdown",
   "metadata": {},
   "source": [
    "# Homework I\n",
    "\n",
    "Joana Peixinho (ist1103335) & Miguel Fernandes (ist1103573)"
   ]
  },
  {
   "cell_type": "markdown",
   "metadata": {},
   "source": [
    "## I. Pen and Paper [11v]\n",
    "\n",
    "Consider the partially learnt decision tree from the dataset 𝐷. 𝐷 is described by four input variables –\n",
    "one numeric with values in [0,1] and 3 categorical – and a target variable with three classes."
   ]
  },
  {
   "cell_type": "markdown",
   "metadata": {},
   "source": [
    "![Decision Tree](./decision_tree.png)\n"
   ]
  },
  {
   "cell_type": "markdown",
   "metadata": {},
   "source": [
    "### 1) [5v] Complete the given decision tree using Information gain with Shannon entropy (log2).\n",
    "Consider that: i) a minimum of 4 observations is required to split an internal node, and \n",
    "ii) decisions by ascending alphabetic order should be placed in case of ties."
   ]
  },
  {
   "cell_type": "code",
   "execution_count": null,
   "metadata": {},
   "outputs": [],
   "source": [
    "\n",
    "\n"
   ]
  },
  {
   "cell_type": "markdown",
   "metadata": {},
   "source": [
    "### 2) [2.5v] Draw the training confusion matrix for the learnt decision tree"
   ]
  },
  {
   "cell_type": "markdown",
   "metadata": {},
   "source": [
    "|        | True A | True B | True C |\n",
    "|--------|--------|--------|--------|\n",
    "| Pred A |   0    |   0    |   0    |\n",
    "| Pred B |   0    |   0    |   0    |\n",
    "| Pred C |   0    |   0    |   0    |\n"
   ]
  },
  {
   "cell_type": "markdown",
   "metadata": {},
   "source": [
    "### 3) [1.5v] Identify which class has the lowest training F1 score."
   ]
  },
  {
   "cell_type": "code",
   "execution_count": null,
   "metadata": {},
   "outputs": [],
   "source": [
    "true_positives = \n",
    "false_positives = \n",
    "false_negatives = \n",
    "\n",
    "precision = true_positives / (true_positives + false_positives)\n",
    "recall = true_positives / (true_positives + false_negatives)\n",
    "\n",
    "f1_measure = (0.5 * (1 / precision + 1 / recall)) ** (-1)\n",
    "\n",
    "f1_measure"
   ]
  },
  {
   "cell_type": "markdown",
   "metadata": {},
   "source": [
    "### 4) [1v] Considering y2 to be ordinal, assess if y1 and y2 are correlated using the Spearman coefficient"
   ]
  },
  {
   "cell_type": "code",
   "execution_count": 1,
   "metadata": {},
   "outputs": [
    {
     "name": "stdout",
     "output_type": "stream",
     "text": [
      "Spearman's correlation coefficient: 0.07965868656654054\n",
      "P value: 0.8056140963493688\n"
     ]
    }
   ],
   "source": [
    "import scipy.stats\n",
    "\n",
    "# (ranks) of y1 and y2\n",
    "rank_y1 = [3, 2, 1, 5, 4, 10, 12, 11, 7, 9, 6, 8]\n",
    "rank_y2 = [8, 11, 3.5, 3.5, 3.5, 11, 3.5, 11, 8, 3.5, 8, 3.5]\n",
    "\n",
    "# Spearman's correlation coefficient\n",
    "rho, p_value = scipy.stats.spearmanr(rank_y1, rank_y2)\n",
    "\n",
    "print(\"Spearman's correlation coefficient:\", rho)\n",
    "print(\"P value:\", p_value)"
   ]
  },
  {
   "cell_type": "markdown",
   "metadata": {},
   "source": [
    "### 5) [1v] Draw the class-conditional relative histograms of y1 using 5 equally spaced bins in [0,1].\n",
    "Challenge: find the root split using the discriminant rules from these empirical distributions."
   ]
  },
  {
   "cell_type": "code",
   "execution_count": 4,
   "metadata": {},
   "outputs": [
    {
     "data": {
      "image/png": "[encoded data removed]",
      "text/plain": [
       "<Figure size 640x480 with 1 Axes>"
      ]
     },
     "metadata": {},
     "output_type": "display_data"
    }
   ],
   "source": [
    "import numpy as np\n",
    "import matplotlib.pyplot as plt\n",
    "\n",
    "# Data for y1\n",
    "y1 = np.array([0.24, 0.06, 0.04, 0.36, 0.32, 0.68, 0.9, 0.76, 0.46, 0.62, 0.44, 0.52])\n",
    "num_bins = 5  # Number of bins (intervals)\n",
    "\n",
    "# Create the histogram of absolute frequency\n",
    "plt.hist(y1, bins=num_bins, range=(0, 1), alpha=0.75, edgecolor='k')\n",
    "\n",
    "plt.xlabel('Values of y1')\n",
    "plt.ylabel('Absolute Frequency')\n",
    "plt.title('Histogram of Absolute Frequency of y1')\n",
    "plt.grid(True)\n",
    "\n",
    "plt.show()\n"
   ]
  },
  {
   "cell_type": "markdown",
   "metadata": {},
   "source": [
    "## Programming [9v]\n",
    "\n",
    "**Considering the `column_diagnosis.arff` dataset available at the homework tab:**"
   ]
  },
  {
   "cell_type": "markdown",
   "metadata": {},
   "source": [
    "### 1) [1.5v]\n",
    "\n",
    "** Apply f_classif from sklearn to assess the discriminative power of the input variables.\n",
    "Identify the input variable with the highest and lowest discriminative power. \n",
    "Plot the class-conditional probability density functions of these two input variables.**"
   ]
  },
  {
   "cell_type": "code",
   "execution_count": 1,
   "metadata": {},
   "outputs": [
    {
     "ename": "ModuleNotFoundError",
     "evalue": "No module named 'sklearn'",
     "output_type": "error",
     "traceback": [
      "\u001b[0;31m---------------------------------------------------------------------------\u001b[0m",
      "\u001b[0;31mModuleNotFoundError\u001b[0m                       Traceback (most recent call last)",
      "\u001b[1;32m/home/joanapeixinho/uni/third_year/apre/proj-APRE/src/hm1/HW1.ipynb Cell 14\u001b[0m line \u001b[0;36m4\n\u001b[1;32m      <a href='vscode-notebook-cell://wsl%2Bubuntu/home/joanapeixinho/uni/third_year/apre/proj-APRE/src/hm1/HW1.ipynb#X16sdnNjb2RlLXJlbW90ZQ%3D%3D?line=1'>2</a>\u001b[0m \u001b[39mimport\u001b[39;00m \u001b[39mpandas\u001b[39;00m \u001b[39mas\u001b[39;00m \u001b[39mpd\u001b[39;00m\n\u001b[1;32m      <a href='vscode-notebook-cell://wsl%2Bubuntu/home/joanapeixinho/uni/third_year/apre/proj-APRE/src/hm1/HW1.ipynb#X16sdnNjb2RlLXJlbW90ZQ%3D%3D?line=2'>3</a>\u001b[0m \u001b[39mfrom\u001b[39;00m \u001b[39mscipy\u001b[39;00m\u001b[39m.\u001b[39;00m\u001b[39mio\u001b[39;00m\u001b[39m.\u001b[39;00m\u001b[39marff\u001b[39;00m \u001b[39mimport\u001b[39;00m loadarff\n\u001b[0;32m----> <a href='vscode-notebook-cell://wsl%2Bubuntu/home/joanapeixinho/uni/third_year/apre/proj-APRE/src/hm1/HW1.ipynb#X16sdnNjb2RlLXJlbW90ZQ%3D%3D?line=3'>4</a>\u001b[0m \u001b[39mfrom\u001b[39;00m \u001b[39msklearn\u001b[39;00m \u001b[39mimport\u001b[39;00m feature_selection, model_selection, tree, metrics, preprocessing\n\u001b[1;32m      <a href='vscode-notebook-cell://wsl%2Bubuntu/home/joanapeixinho/uni/third_year/apre/proj-APRE/src/hm1/HW1.ipynb#X16sdnNjb2RlLXJlbW90ZQ%3D%3D?line=4'>5</a>\u001b[0m \u001b[39mimport\u001b[39;00m \u001b[39mnumpy\u001b[39;00m \u001b[39mas\u001b[39;00m \u001b[39mnp\u001b[39;00m\n\u001b[1;32m      <a href='vscode-notebook-cell://wsl%2Bubuntu/home/joanapeixinho/uni/third_year/apre/proj-APRE/src/hm1/HW1.ipynb#X16sdnNjb2RlLXJlbW90ZQ%3D%3D?line=5'>6</a>\u001b[0m \u001b[39mimport\u001b[39;00m \u001b[39mmatplotlib\u001b[39;00m\u001b[39m.\u001b[39;00m\u001b[39mpyplot\u001b[39;00m \u001b[39mas\u001b[39;00m \u001b[39mplt\u001b[39;00m\n",
      "\u001b[0;31mModuleNotFoundError\u001b[0m: No module named 'sklearn'"
     ]
    }
   ],
   "source": [
    "from sklearn.feature_selection import f_classif\n"
   ]
  },
  {
   "cell_type": "code",
   "execution_count": null,
   "metadata": {},
   "outputs": [],
   "source": []
  },
  {
   "cell_type": "markdown",
   "metadata": {},
   "source": [
    "### 2) [4v]\n",
    "\n",
    "**Using a stratified 70-30 training-testing split with a fixed seed (random_state=0), assess in a\n",
    "single plot both the training and testing accuracies of a decision tree with depth limits in\n",
    "{1,2,3,4,5,6,8,10} and the remaining parameters as default.\n",
    "[optional] Note that split thresholding of numeric variables in decision trees is non-deterministic\n",
    "in sklearn, hence you may opt to average the results using 10 runs per parameterization**"
   ]
  },
  {
   "cell_type": "markdown",
   "metadata": {},
   "source": [
    "### 3) [1.5v]\n",
    "\n",
    "**Comment on the results, including the generalization capacity across settings**"
   ]
  },
  {
   "cell_type": "markdown",
   "metadata": {},
   "source": [
    "### 4) [2v]\n",
    "\n",
    "**To deploy the predictor, a healthcare team opted to learn a single decision tree\n",
    "(random_state=0) using all available data as training data, and further ensuring that each leaf has\n",
    "a minimum of 20 individuals in order to avoid overfitting risks.**\n",
    "\n",
    "    i. Plot the decision tree.\n",
    "    ii. Characterize a hernia condition by identifying the hernia-conditional associations"
   ]
  },
  {
   "cell_type": "markdown",
   "metadata": {},
   "source": []
  }
 ],
 "metadata": {
  "kernelspec": {
   "display_name": "Python 3",
   "language": "python",
   "name": "python3"
  },
  "language_info": {
   "codemirror_mode": {
    "name": "ipython",
    "version": 3
   },
   "file_extension": ".py",
   "mimetype": "text/x-python",
   "name": "python",
   "nbconvert_exporter": "python",
   "pygments_lexer": "ipython3",
   "version": "3.8.10"
  }
 },
 "nbformat": 4,
 "nbformat_minor": 2
}
