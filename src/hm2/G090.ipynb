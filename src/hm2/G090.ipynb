{
 "cells": [
  {
   "cell_type": "markdown",
   "metadata": {},
   "source": [
    "# Homework I\n",
    "\n",
    "Joana Peixinho (ist1103335) & Miguel Fernandes (ist1103573)\n"
   ]
  },
  {
   "cell_type": "markdown",
   "metadata": {},
   "source": [
    "## I. Pen and Paper [13v]\n",
    "\n",
    "Consider the following dataset\n"
   ]
  },
  {
   "cell_type": "markdown",
   "metadata": {},
   "source": [
    "![Decision Tree](./decision_tree.png)\n"
   ]
  },
  {
   "cell_type": "markdown",
   "metadata": {},
   "source": [
    "### 1) Consider 𝐱1–𝐱7 to be training observations, 𝐱8–𝐱9 to be testing observations, 𝑦1– 𝑦5 to be input variables and 𝑦6 to be the target variable. Hint: you can use scipy.stats.multivariate_normal for multivariate distribution calculus\n",
    "\n",
    "**a.) [3.5v] Learn a Bayesian classifier assuming: i) {𝑦1, 𝑦2}, {𝑦3, 𝑦4} and {𝑦5} sets of independent variables (e.g., 𝑦1 ⫫ 𝑦3 yet 𝑦1 ⫫ 𝑦2), and  ii) 𝑦1 × 𝑦2 ∈ ℝ2 is normally distributed.  Show all parameters (distributions and priors for subsequent testing).**\n",
    "\n"
   ]
  },
  {
   "cell_type": "code",
<<<<<<< HEAD:src/hm2/G090.ipynb
   "execution_count": 87,
=======
   "execution_count": 13,
>>>>>>> f725e51278eba1b650035f47a50cf035d1d6e646:src/hm2/HW2.ipynb
   "metadata": {},
   "outputs": [
    {
     "name": "stdout",
     "output_type": "stream",
     "text": [
      "Probabilities for Class A:\n",
      "p(y3=0, y4=0|A): 0.0\n",
      "p(y3=1, y4=0|A): 0.3333\n",
      "p(y3=0, y4=1|A): 0.3333\n",
      "p(y3=1, y4=1|A): 0.3333\n",
      "p(y5=0|A): 0.3333\n",
      "p(y5=1|A): 0.3333\n",
      "p(y5=2|A): 0.3333\n",
      "\n",
      "Probabilities for Class B:\n",
      "p(y3=0, y4=0|B): 0.5\n",
      "p(y3=1, y4=0|B): 0.25\n",
      "p(y3=0, y4=1|B): 0.25\n",
      "p(y3=1, y4=1|B): 0.0\n",
      "p(y5=0|B): 0.25\n",
      "p(y5=1|B): 0.5\n",
      "p(y5=2|B): 0.25\n",
      "\n",
      "Probabilities for the entire dataset:\n",
      "p(y3=0, y4=0): 0.2857\n",
      "p(y3=1, y4=0): 0.2857\n",
      "p(y3=0, y4=1): 0.2857\n",
      "p(y3=1, y4=1): 0.1429\n",
      "p(y5=0): 0.2857\n",
      "p(y5=1): 0.4286\n",
      "p(y5=2): 0.2857\n",
      "\n",
      "Parameters for Bivariate Normal Distribution 𝑦1 × 𝑦2 in Class A:\n",
      "Mean: [0.24 0.52]\n",
      "Covariance Matrix:\n",
      "[[0.0064 0.0096]\n",
      " [0.0096 0.0336]]\n",
      "\n",
      "Parameters for Bivariate Normal Distribution 𝑦1 × 𝑦2 in Class B:\n",
      "Mean: [0.5925 0.3275]\n",
      "Covariance Matrix:\n",
      "[[ 0.02289167 -0.00975833]\n",
      " [-0.00975833  0.03149167]]\n",
      "\n",
      "Prior Probabilities:\n",
      "P(y6=A): 0.42857142857142855\n",
      "P(y6=B): 0.5714285714285714\n"
     ]
    }
   ],
   "source": [
    "import numpy as np\n",
    "from scipy.stats import multivariate_normal\n",
    "# P(z|x) = P(x|z) * P(z) / P(x)\n",
    "\n",
    "# Training data for y1, y2, y3, y4, y5, y6\n",
    "train_data = np.array([\n",
    "    [0.24, 0.36, 1, 1, 0, 'A'],\n",
    "    [0.16, 0.48, 1, 0, 1, 'A'],\n",
    "    [0.32, 0.72, 0, 1, 2, 'A'],\n",
    "    [0.54, 0.11, 0, 0, 1, 'B'],\n",
    "    [0.66, 0.39, 0, 0, 0, 'B'],\n",
    "    [0.76, 0.28, 1, 0, 2, 'B'],\n",
    "    [0.41, 0.53, 0, 1, 1, 'B'],\n",
    "    \n",
    "])\n",
    "\n",
    "# Separate data by class A and B\n",
    "class_A_data = train_data[train_data[:, -1] == 'A'][:, :-1].astype(float)\n",
    "class_B_data = train_data[train_data[:, -1] == 'B'][:, :-1].astype(float)\n",
    "\n",
    "# Calculate PRIOR probabilities [ P(z) = P(y6=A) and P(z) = P(y6=B)]\n",
    "prior_A, prior_B = len(class_A_data) / len(train_data), len(class_B_data) / len(train_data)\n",
    "\n",
    "# Calculate means and covariance matrices for y1, y2, y3, y4, y5 in class A and B\n",
    "mean_A, mean_B = np.mean(class_A_data, axis=0), np.mean(class_B_data, axis=0)\n",
    "cov_A, cov_B = np.cov(class_A_data, rowvar=False), np.cov(class_B_data, rowvar=False)\n",
    "\n",
    "# Assuming 𝑦1 × 𝑦2 is normally distributed, estimate the parameters for this bivariate normal distribution\n",
    "mean_y1_y2_A, mean_y1_y2_B = mean_A[:2], mean_B[:2]  # Mean of {𝑦1, 𝑦2} in class A, \"\" in class B\n",
    "cov_y1_y2_A, cov_y1_y2_B = cov_A[:2, :2], cov_B[:2, :2]  # Covariance matrix of {𝑦1, 𝑦2} in class A, \"\" in class B\n",
    "\n",
    "# Calculate the covariance matrix and the mean for y1 and y2\n",
    "y1_y2_data = train_data[:, :2].astype(float)\n",
    "cov_y1_y2 = np.cov(y1_y2_data, rowvar=False)\n",
    "mean_y1_y2 = np.mean(y1_y2_data, axis=0)\n",
    "\n",
    "# Define multivariate normal distribution for y1_y2_A, y1_y2_B and y1_y2\n",
    "mvn_y1_y2_A = multivariate_normal(mean=mean_y1_y2_A, cov=cov_y1_y2_A)\n",
    "mvn_y1_y2_B = multivariate_normal(mean=mean_y1_y2_B, cov=cov_y1_y2_B)\n",
    "mvn_y1_y2 = multivariate_normal(mean=mean_y1_y2, cov=cov_y1_y2)\n",
    "\n",
    "# Count total occurrences of class A and B\n",
    "total_A = len(train_data[train_data[:, -1] == 'A'])\n",
    "total_B = len(train_data[train_data[:, -1] == 'B'])\n",
    "\n",
    "\n",
    "# Define a function to calculate probabilities\n",
    "def calculate_probability(indexes_to_test, values_to_compare, total):\n",
    "    return sum(all(observation[i] == v for i, v in zip(indexes_to_test, values_to_compare))\\\n",
    "                for observation in train_data\\\n",
    "            ) / total\n",
    "\n",
    "\n",
    "# Probabilities for class A\n",
    "p_y3_0_y4_0_A = calculate_probability([2,3,-1], ['0','0','A'], total_A)\n",
    "p_y3_1_y4_0_A = calculate_probability([2,3,-1], ['1','0','A'], total_A)\n",
    "p_y3_0_y4_1_A = calculate_probability([2,3,-1], ['0','1','A'], total_A)\n",
    "p_y3_1_y4_1_A = calculate_probability([2,3,-1], ['1','1','A'], total_A)\n",
    "\n",
    "p_y5_0_A = calculate_probability([4,-1], ['0','A'], total_A)\n",
    "p_y5_1_A = calculate_probability([4,-1], ['1','A'], total_A)\n",
    "p_y5_2_A = calculate_probability([4,-1], ['2','A'], total_A)\n",
    "\n",
    "# Probabilities for class B\n",
    "p_y3_0_y4_0_B = calculate_probability([2,3,-1], ['0','0','A'], total_B)\n",
    "p_y3_1_y4_0_B = calculate_probability([2,3,-1], ['1','0','A'], total_B)\n",
    "p_y3_0_y4_1_B = calculate_probability([2,3,-1], ['0','1','A'], total_B)\n",
    "p_y3_1_y4_1_B = calculate_probability([2,3,-1], ['1','1','A'], total_B)\n",
    "\n",
    "p_y5_0_B = calculate_probability([4,-1], ['0','A'], total_B)\n",
    "p_y5_1_B = calculate_probability([4,-1], ['1','A'], total_B)\n",
    "p_y5_2_B = calculate_probability([4,-1], ['2','A'], total_B)\n",
    "\n",
    "# Probabilities for the entire dataset\n",
    "p_y3_0_y4_0 = calculate_probability([2,3], ['0','0'], total_A + total_B)\n",
    "p_y3_1_y4_0 = calculate_probability([2,3], ['1','0'], total_A + total_B)\n",
    "p_y3_0_y4_1 = calculate_probability([2,3], ['0','1'], total_A + total_B)\n",
    "p_y3_1_y4_1 = calculate_probability([2,3], ['1','1'], total_A + total_B)\n",
    "\n",
    "p_y5_0 = calculate_probability([4], ['0'], total_A + total_B)\n",
    "p_y5_1 = calculate_probability([4], ['1'], total_A + total_B)\n",
    "p_y5_2 = calculate_probability([4], ['2'], total_A + total_B)\n",
    "\n",
    "# Organize and print the probabilities neatly\n",
    "print(\"Probabilities for Class A:\")\n",
    "print(f\"p(y3=0, y4=0|A): {round(p_y3_0_y4_0_A, 4)}\")\n",
    "print(f\"p(y3=1, y4=0|A): {round(p_y3_1_y4_0_A, 4)}\")\n",
    "print(f\"p(y3=0, y4=1|A): {round(p_y3_0_y4_1_A, 4)}\")\n",
    "print(f\"p(y3=1, y4=1|A): {round(p_y3_1_y4_1_A, 4)}\")\n",
    "print(f\"p(y5=0|A): {round(p_y5_0_A, 4)}\")\n",
    "print(f\"p(y5=1|A): {round(p_y5_1_A, 4)}\")\n",
    "print(f\"p(y5=2|A): {round(p_y5_2_A, 4)}\")\n",
    "\n",
    "print(\"\\nProbabilities for Class B:\")\n",
    "print(f\"p(y3=0, y4=0|B): {round(p_y3_0_y4_0_B, 4)}\")\n",
    "print(f\"p(y3=1, y4=0|B): {round(p_y3_1_y4_0_B, 4)}\")\n",
    "print(f\"p(y3=0, y4=1|B): {round(p_y3_0_y4_1_B, 4)}\")\n",
    "print(f\"p(y3=1, y4=1|B): {round(p_y3_1_y4_1_B, 4)}\")\n",
    "print(f\"p(y5=0|B): {round(p_y5_0_B, 4)}\")\n",
    "print(f\"p(y5=1|B): {round(p_y5_1_B, 4)}\")\n",
    "print(f\"p(y5=2|B): {round(p_y5_2_B, 4)}\")\n",
    "\n",
    "print(\"\\nProbabilities for the entire dataset:\")\n",
    "print(f\"p(y3=0, y4=0): {round(p_y3_0_y4_0, 4)}\")\n",
    "print(f\"p(y3=1, y4=0): {round(p_y3_1_y4_0, 4)}\")\n",
    "print(f\"p(y3=0, y4=1): {round(p_y3_0_y4_1, 4)}\")\n",
    "print(f\"p(y3=1, y4=1): {round(p_y3_1_y4_1, 4)}\")\n",
    "print(f\"p(y5=0): {round(p_y5_0, 4)}\")\n",
    "print(f\"p(y5=1): {round(p_y5_1, 4)}\")\n",
    "print(f\"p(y5=2): {round(p_y5_2, 4)}\")\n",
    "\n",
    "\n",
    "# Print the calculated parameters and prior probabilities\n",
    "print(\"\\nParameters for Bivariate Normal Distribution 𝑦1 × 𝑦2 in Class A:\")\n",
    "print(\"Mean:\", mean_y1_y2_A)\n",
    "print(\"Covariance Matrix:\")\n",
    "print(cov_y1_y2_A)\n",
    "print(\"\\nParameters for Bivariate Normal Distribution 𝑦1 × 𝑦2 in Class B:\")\n",
    "print(\"Mean:\", mean_y1_y2_B)\n",
    "print(\"Covariance Matrix:\")\n",
    "print(cov_y1_y2_B)\n",
    "print(\"\\nPrior Probabilities:\")\n",
    "print(\"P(y6=A):\", prior_A)\n",
    "print(\"P(y6=B):\", prior_B)\n"
   ]
  },
  {
   "cell_type": "code",
<<<<<<< HEAD:src/hm2/G090.ipynb
   "execution_count": 88,
=======
   "execution_count": 14,
>>>>>>> f725e51278eba1b650035f47a50cf035d1d6e646:src/hm2/HW2.ipynb
   "metadata": {},
   "outputs": [
    {
     "name": "stdout",
     "output_type": "stream",
     "text": [
      "The likelihood P(x8 | z=A) is 0.9847\n",
      "0.04689070270022746\n",
      "The likelihood P(x8 | z=B) is 1.9624\n",
      "0.07008461206653069\n",
      "The likelihood P(x9 | z=A) is 0.4031\n",
      "0.019193856472981684\n",
      "The likelihood P(x9 | z=B) is 1.7286\n",
      "0.12346932765881846\n"
     ]
    }
   ],
   "source": [
    "# Define the observed test values of y1,y2\n",
    "x8 = np.array([0.38, 0.52])\n",
    "x9= np.array([0.42, 0.59]) \n",
    "\n",
    "# Calculate the likelihood P(x | z=A)\n",
    "likelihood_A_x8 = mvn_y1_y2_A.pdf(x8)\n",
    "likelihood_B_x8 = mvn_y1_y2_B.pdf(x8)\n",
    "likelihood_A_x9 = mvn_y1_y2_A.pdf(x9)\n",
    "likelihood_B_x9 = mvn_y1_y2_B.pdf(x9)\n",
    "\n",
    "print(f\"The likelihood P(x8 | z=A) is {round(likelihood_A_x8, 4)}\")\n",
    "print(likelihood_A_x8 /9 * 3/7)\n",
    "print(f\"The likelihood P(x8 | z=B) is {round(likelihood_B_x8, 4)}\")\n",
    "print(likelihood_B_x8 /16 * 4/7)\n",
    "print(f\"The likelihood P(x9 | z=A) is {round(likelihood_A_x9, 4)}\")\n",
    "print(likelihood_A_x9 /9 * 3/7)\n",
    "print(f\"The likelihood P(x9 | z=B) is {round(likelihood_B_x9, 4)}\")\n",
    "print(likelihood_B_x9 /9 * 4/7)"
   ]
  },
  {
   "cell_type": "markdown",
   "metadata": {},
   "source": [
    "**b.) [2.5v] Under a MAP assumption, classify each testing observation showing all your calculus.**\n"
   ]
  },
  {
   "cell_type": "markdown",
   "metadata": {},
   "source": [
    "**c.) [2v] Consider that the default decision threshold of 𝜃 = 0.5 can be adjusted according to 𝑓(𝐱|𝜃) = { A 𝑃(A|𝐱) > 𝜃 B otherwise . Under a maximum likelihood assumption, what thresholds optimize testing accuracy?**"
   ]
  },
  {
   "cell_type": "markdown",
   "metadata": {},
   "source": [
    "### 2) Let 𝑦1 be the target numeric variable, 𝑦2-𝑦6 be the input variables where 𝑦2 is binarized under an equal-width (equal-range) discretization. For the evaluation of regressors, consider a 3-fold cross-validation over the full dataset (𝐱1- 𝐱9) without shuffling the observations.\n",
    "\n",
    "**a. [1v] Identify the observations and features per data fold after the binarization procedure.**\n",
    "\n",
    "**b. [4v] Consider a distance-weighted 𝑘NN with 𝑘 = 3, Hamming distance (𝑑), and 1/𝑑 weighting. Compute the MAE of this 𝑘NN regressor for the 1st iteration of the cross-validation (i.e. train observations have the lower indices).**\n"
   ]
  },
  {
   "cell_type": "code",
   "execution_count": null,
   "metadata": {},
   "outputs": [],
   "source": []
  },
  {
   "cell_type": "markdown",
   "metadata": {},
   "source": [
    "## Programming [7v]\n",
    "\n",
    "**Considering the column_diagnosis.arff dataset available at the course webpage’s homework tab.\n",
    "Using sklearn, apply a 10-fold stratified cross-validation with shuffling (random_state=0) for the\n",
    "assessment of predictive models along this section.**\n"
   ]
  },
  {
   "cell_type": "code",
<<<<<<< HEAD:src/hm2/G090.ipynb
   "execution_count": 89,
=======
   "execution_count": 15,
>>>>>>> f725e51278eba1b650035f47a50cf035d1d6e646:src/hm2/HW2.ipynb
   "metadata": {},
   "outputs": [],
   "source": [
    "\n",
    "import pandas as pd\n",
    "from scipy.io.arff import loadarff\n",
    "from sklearn.model_selection import cross_val_score, StratifiedKFold\n",
    "from sklearn.svm import SVC\n",
    "\n",
    "data = loadarff('column_diagnosis.arff')\n",
    "df = pd.DataFrame(data[0])\n",
    "df['class'] = df['class'].str.decode('utf-8')\n",
    "\n",
    "X = df.drop(columns=['class'])  \n",
    "y = df['class']   \n",
    "\n",
    "\n",
    "stratified_kfold = StratifiedKFold(n_splits=10, shuffle=True, random_state=0)\n"
   ]
  },
  {
   "cell_type": "markdown",
   "metadata": {},
   "source": [
    "### 1) [3v]\n",
    "\n",
    "**Compare the performance of 𝑘NN with 𝑘 = 5 and naïve Bayes with Gaussian assumption\n",
    "(consider all remaining parameters for each classifier as sklearn’s default):\n",
    "a. Plot two boxplots with the fold accuracies for each classifier.\n",
    "b. Using scipy, test the hypothesis “𝑘NN is statistically superior to naïve Bayes regarding\n",
    "accuracy”, asserting whether is true**\n"
   ]
  },
  {
   "cell_type": "code",
<<<<<<< HEAD:src/hm2/G090.ipynb
   "execution_count": 90,
=======
   "execution_count": 16,
>>>>>>> f725e51278eba1b650035f47a50cf035d1d6e646:src/hm2/HW2.ipynb
   "metadata": {},
   "outputs": [
    {
     "data": {
      "image/png": "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",
      "text/plain": [
       "<Figure size 640x480 with 1 Axes>"
      ]
     },
     "metadata": {},
     "output_type": "display_data"
    }
   ],
   "source": [
    "#a) plot two boxplost with the fold accuracies for kNN with k=5 and naive Bayes with Gaussian assumptions\n",
    "import matplotlib.pyplot as plt\n",
    "from sklearn.naive_bayes import GaussianNB\n",
    "from sklearn.neighbors import KNeighborsClassifier\n",
    "\n",
    "classifiers = [\n",
    "    KNeighborsClassifier(n_neighbors=5),\n",
    "    GaussianNB()\n",
    "]\n",
    "\n",
    "classifier_names = [\n",
    "    'kNN (k=5)',\n",
    "    'Naive Bayes (Gaussian)'\n",
    "]\n",
    "\n",
    "classifier_accuracies = []\n",
    "\n",
    "for classifier in classifiers:\n",
    "    accuracies = cross_val_score(classifier, X, y, cv=stratified_kfold)\n",
    "    classifier_accuracies.append(accuracies)\n",
    "\n",
    "plt.boxplot(classifier_accuracies)\n",
    "plt.xticks(np.arange(1, len(classifier_names) + 1), classifier_names)\n",
    "plt.xlabel('Classifier')\n",
    "plt.ylabel('Accuracy')\n",
    "plt.title('10-fold Stratified Cross-Validation')\n",
    "plt.show()\n"
   ]
  },
  {
   "cell_type": "code",
<<<<<<< HEAD:src/hm2/G090.ipynb
   "execution_count": 91,
=======
   "execution_count": 17,
>>>>>>> f725e51278eba1b650035f47a50cf035d1d6e646:src/hm2/HW2.ipynb
   "metadata": {},
   "outputs": [
    {
     "name": "stdout",
     "output_type": "stream",
     "text": [
      "P-value: 0.19042809062064092\n",
      "Hypothesis Test Result: There is no significant difference between k-NN and Naive Bayes\n"
     ]
    }
   ],
   "source": [
    "#b) Using scipy, test the hypothesis “𝑘NN is statistically superior to naïve Bayes regarding accuracy”, asserting whether is true\n",
    "\n",
    "from scipy import stats\n",
    "\n",
    "# Perform a paired t-test\n",
    "p_value = stats.ttest_rel(classifier_accuracies[0], classifier_accuracies[1], alternative='greater').pvalue\n",
    "\n",
    "# Define the significance level\n",
    "alpha = 0.1\n",
    "\n",
    "# Determine if k-NN is statistically superior to Naive Bayes\n",
    "if p_value < alpha:\n",
    "    result = \"k-NN is statistically superior to Naive Bayes\"\n",
    "else:\n",
    "    result = \"There is no significant difference between k-NN and Naive Bayes\"\n",
    "\n",
    "# Print the results\n",
    "print(\"P-value:\", p_value)\n",
    "print(\"Hypothesis Test Result:\", result)\n"
   ]
  },
  {
   "cell_type": "markdown",
   "metadata": {},
   "source": [
    "In accordance with the provided specifications, the p-value is 0.38. At commonly used significance levels (e.g., α = 0.1), it is not possible to reject the null hypothesis. Consequently, we cannot claim that the proposed hypothesis is valid. It's important to emphasize that we should avoid concluding that the given hypothesis is false or rejected without conducting further statistical tests."
   ]
  },
  {
   "cell_type": "markdown",
   "metadata": {},
   "source": [
    "### 2) [2.5v]\n",
    "\n",
    "**Consider two 𝑘NN predictors with 𝑘 = 1 and 𝑘 = 5 (uniform weights, Euclidean distance,\n",
    "all remaining parameters as default). Plot the differences between the two cumulative confusion\n",
    "matrices of the predictors. Comment.**\n"
   ]
  },
  {
   "cell_type": "code",
<<<<<<< HEAD:src/hm2/G090.ipynb
   "execution_count": 92,
=======
   "execution_count": 21,
>>>>>>> f725e51278eba1b650035f47a50cf035d1d6e646:src/hm2/HW2.ipynb
   "metadata": {},
   "outputs": [
    {
     "name": "stdout",
     "output_type": "stream",
     "text": [
<<<<<<< HEAD:src/hm2/G090.ipynb
      "Confusion Matrix for k = 1:\n",
=======
      "Confusion Matrix for k=1:\n",
>>>>>>> f725e51278eba1b650035f47a50cf035d1d6e646:src/hm2/HW2.ipynb
      "[[ 37  23   0]\n",
      " [ 14  80   6]\n",
      " [  1   7 142]]\n",
      "\n",
<<<<<<< HEAD:src/hm2/G090.ipynb
      "Confusion Matrix for k = 5:\n",
=======
      "Confusion Matrix for k=5:\n",
>>>>>>> f725e51278eba1b650035f47a50cf035d1d6e646:src/hm2/HW2.ipynb
      "[[ 39  21   0]\n",
      " [ 19  78   3]\n",
      " [  1   6 143]]\n",
      "\n",
<<<<<<< HEAD:src/hm2/G090.ipynb
      "Difference in Cumulative Confusion Matrices (k=1 - k=5):\n",
=======
      "Difference in Confusion Matrices (k=1 - k=5):\n",
>>>>>>> f725e51278eba1b650035f47a50cf035d1d6e646:src/hm2/HW2.ipynb
      "[[-2  2  0]\n",
      " [-5  2  3]\n",
      " [ 0  1 -1]]\n"
     ]
    },
    {
     "data": {
<<<<<<< HEAD:src/hm2/G090.ipynb
      "image/png": "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",
=======
      "image/png": "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",
>>>>>>> f725e51278eba1b650035f47a50cf035d1d6e646:src/hm2/HW2.ipynb
      "text/plain": [
       "<Figure size 800x600 with 2 Axes>"
      ]
     },
     "metadata": {},
     "output_type": "display_data"
    }
   ],
   "source": [
    "import numpy as np\n",
    "import matplotlib.pyplot as plt\n",
    "from sklearn.neighbors import KNeighborsClassifier\n",
    "from sklearn.metrics import confusion_matrix\n",
    "from sklearn.preprocessing import LabelEncoder\n",
    "\n",
<<<<<<< HEAD:src/hm2/G090.ipynb
=======
    "# Create two k-NN classifiers with k=1 and k=5\n",
>>>>>>> f725e51278eba1b650035f47a50cf035d1d6e646:src/hm2/HW2.ipynb
    "knn_k1 = KNeighborsClassifier(n_neighbors=1, weights='uniform', metric='euclidean')\n",
    "knn_k5 = KNeighborsClassifier(n_neighbors=5, weights='uniform', metric='euclidean')\n",
    "\n",
    "cm_k1, cm_k5= np.array([[0,0,0],[0,0,0],[0,0,0]]), np.array([[0,0,0],[0,0,0],[0,0,0]])\n",
    "\n",
    "\n",
    "X = df.iloc[:, :-1].values\n",
    "\n",
    "label_encoder = LabelEncoder()\n",
    "y = label_encoder.fit_transform(df.iloc[:, -1])\n",
    "\n",
    "for train_index, test_index in stratified_kfold .split(X, y):\n",
    "    \n",
    "    X_train, X_test = X[train_index], X[test_index]\n",
    "    y_train, y_test = y[train_index], y[test_index]\n",
    "    knn_k1.fit(X_train, y_train)\n",
    "    knn_k5.fit(X_train, y_train)\n",
    "    y_pred_1 = knn_k1.predict(X_test)\n",
    "    y_pred_5 = knn_k5.predict(X_test)\n",
    "    cm_k1+= confusion_matrix(y_test, y_pred_1)\n",
    "    cm_k5+= confusion_matrix(y_test, y_pred_5)\n",
    "\n",
<<<<<<< HEAD:src/hm2/G090.ipynb
    "cm_diff = cm_k1 - cm_k5\n",
    "\n",
    "\n",
    "# Print confusion matrices in text form\n",
    "print(\"Confusion Matrix for k = 1:\")\n",
    "print(cm_k1)\n",
    "\n",
    "print(\"\\nConfusion Matrix for k = 5:\")\n",
    "print(cm_k5)\n",
    "\n",
    "# Calculate the difference in cumulative confusion matrices\n",
    "cm_diff = cm_k1 - cm_k5\n",
    "\n",
    "print(\"\\nDifference in Cumulative Confusion Matrices (k=1 - k=5):\")\n",
    "print(cm_diff)\n",
    "\n",
=======
    "# Calculate the difference between the two confusion matrices\n",
    "cm_diff = cm_k1 - cm_k5\n",
    "\n",
    "print (\"Confusion Matrix for k=1:\")\n",
    "print(cm_k1)\n",
    "print(\"\\nConfusion Matrix for k=5:\")\n",
    "print(cm_k5)\n",
    "print(\"\\nDifference in Confusion Matrices (k=1 - k=5):\")\n",
    "print(cm_diff)\n",
    "\n",
    "# Plot the differences\n",
>>>>>>> f725e51278eba1b650035f47a50cf035d1d6e646:src/hm2/HW2.ipynb
    "plt.figure(figsize=(8, 6))\n",
    "plt.imshow(cm_diff, cmap='coolwarm', interpolation='nearest')\n",
    "plt.colorbar()\n",
    "plt.title(\"Difference in Cumulative Confusion Matrices (k=1 - k=5)\")\n",
    "plt.xticks(np.arange(3), ['Hernia', 'Normal', 'Spondylolisthesis'])\n",
    "plt.yticks(np.arange(3), ['Hernia', 'Normal', 'Spondylolisthesis'])\n",
    "plt.xlabel('Predicted')\n",
    "plt.ylabel('True')\n",
    "for i in range(len(np.unique(y))):\n",
    "    for j in range(len(np.unique(y))):\n",
    "        plt.text(j, i, cm_diff[i, j], ha=\"center\", va=\"center\")\n",
<<<<<<< HEAD:src/hm2/G090.ipynb
    "plt.show()"
=======
    "plt.show()\n"
>>>>>>> f725e51278eba1b650035f47a50cf035d1d6e646:src/hm2/HW2.ipynb
   ]
  },
  {
   "cell_type": "markdown",
   "metadata": {},
   "source": []
  },
  {
   "cell_type": "markdown",
   "metadata": {},
   "source": [
    "### 3) [1.5v]\n",
    "\n",
    "**Considering the unique properties of column_diagnosis, identify three possible difficulties\n",
    "of naïve Bayes when learning from the given dataset.**\n"
   ]
  },
  {
   "cell_type": "markdown",
   "metadata": {},
   "source": []
  }
 ],
 "metadata": {
  "kernelspec": {
   "display_name": "Python 3",
   "language": "python",
   "name": "python3"
  },
  "language_info": {
   "codemirror_mode": {
    "name": "ipython",
    "version": 3
   },
   "file_extension": ".py",
   "mimetype": "text/x-python",
   "name": "python",
   "nbconvert_exporter": "python",
   "pygments_lexer": "ipython3",
   "version": "3.8.10"
  }
 },
 "nbformat": 4,
 "nbformat_minor": 2
}
