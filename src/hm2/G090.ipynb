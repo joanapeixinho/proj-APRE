{
 "cells": [
  {
   "cell_type": "markdown",
   "metadata": {},
   "source": [
    "# Homework I\n",
    "\n",
    "Joana Peixinho (ist1103335) & Miguel Fernandes (ist1103573)\n"
   ]
  },
  {
   "cell_type": "markdown",
   "metadata": {},
   "source": [
    "## I. Pen and Paper [13v]\n",
    "\n",
    "Consider the following dataset\n"
   ]
  },
  {
   "cell_type": "markdown",
   "metadata": {},
   "source": [
    "![Decision Tree](./decision_tree.png)\n"
   ]
  },
  {
   "cell_type": "markdown",
   "metadata": {},
   "source": [
    "### 1) Consider 𝐱1–𝐱7 to be training observations, 𝐱8–𝐱9 to be testing observations, 𝑦1– 𝑦5 to be input variables and 𝑦6 to be the target variable. Hint: you can use scipy.stats.multivariate_normal for multivariate distribution calculus\n",
    "\n",
    "**a.) [3.5v] Learn a Bayesian classifier assuming: i) {𝑦1, 𝑦2}, {𝑦3, 𝑦4} and {𝑦5} sets of independent variables (e.g., 𝑦1 ⫫ 𝑦3 yet 𝑦1 ⫫ 𝑦2), and  ii) 𝑦1 × 𝑦2 ∈ ℝ2 is normally distributed.  Show all parameters (distributions and priors for subsequent testing).**\n",
    "\n"
   ]
  },
  {
   "cell_type": "code",
   "execution_count": 87,
   "metadata": {},
   "outputs": [
    {
     "name": "stdout",
     "output_type": "stream",
     "text": [
      "Probabilities for Class A:\n",
      "p(y3=0, y4=0|A): 0.0\n",
      "p(y3=1, y4=0|A): 0.3333\n",
      "p(y3=0, y4=1|A): 0.3333\n",
      "p(y3=1, y4=1|A): 0.3333\n",
      "p(y5=0|A): 0.3333\n",
      "p(y5=1|A): 0.3333\n",
      "p(y5=2|A): 0.3333\n",
      "\n",
      "Probabilities for Class B:\n",
      "p(y3=0, y4=0|B): 0.0\n",
      "p(y3=1, y4=0|B): 0.25\n",
      "p(y3=0, y4=1|B): 0.25\n",
      "p(y3=1, y4=1|B): 0.25\n",
      "p(y5=0|B): 0.25\n",
      "p(y5=1|B): 0.25\n",
      "p(y5=2|B): 0.25\n",
      "\n",
      "Probabilities for the entire dataset:\n",
      "p(y3=0, y4=0): 0.2857\n",
      "p(y3=1, y4=0): 0.2857\n",
      "p(y3=0, y4=1): 0.2857\n",
      "p(y3=1, y4=1): 0.1429\n",
      "p(y5=0): 0.2857\n",
      "p(y5=1): 0.4286\n",
      "p(y5=2): 0.2857\n",
      "\n",
      "Parameters for Bivariate Normal Distribution 𝑦1 × 𝑦2 in Class A:\n",
      "Mean: [0.24 0.52]\n",
      "Covariance Matrix:\n",
      "[[0.0064 0.0096]\n",
      " [0.0096 0.0336]]\n",
      "\n",
      "Parameters for Bivariate Normal Distribution 𝑦1 × 𝑦2 in Class B:\n",
      "Mean: [0.5925 0.3275]\n",
      "Covariance Matrix:\n",
      "[[ 0.02289167 -0.00975833]\n",
      " [-0.00975833  0.03149167]]\n",
      "\n",
      "Prior Probabilities:\n",
      "P(y6=A): 0.42857142857142855\n",
      "P(y6=B): 0.5714285714285714\n"
     ]
    }
   ],
   "source": [
    "import numpy as np\n",
    "from scipy.stats import multivariate_normal\n",
    "# P(z|x) = P(x|z) * P(z) / P(x)\n",
    "\n",
    "# Training data for y1, y2, y3, y4, y5, y6\n",
    "train_data = np.array([\n",
    "    [0.24, 0.36, 1, 1, 0, 'A'],\n",
    "    [0.16, 0.48, 1, 0, 1, 'A'],\n",
    "    [0.32, 0.72, 0, 1, 2, 'A'],\n",
    "    [0.54, 0.11, 0, 0, 1, 'B'],\n",
    "    [0.66, 0.39, 0, 0, 0, 'B'],\n",
    "    [0.76, 0.28, 1, 0, 2, 'B'],\n",
    "    [0.41, 0.53, 0, 1, 1, 'B'],\n",
    "    \n",
    "])\n",
    "\n",
    "# Separate data by class A and B\n",
    "class_A_data = train_data[train_data[:, -1] == 'A'][:, :-1].astype(float)\n",
    "class_B_data = train_data[train_data[:, -1] == 'B'][:, :-1].astype(float)\n",
    "\n",
    "# Calculate PRIOR probabilities [ P(z) = P(y6=A) and P(z) = P(y6=B)]\n",
    "prior_A, prior_B = len(class_A_data) / len(train_data), len(class_B_data) / len(train_data)\n",
    "\n",
    "# Calculate means and covariance matrices for y1, y2, y3, y4, y5 in class A and B\n",
    "mean_A, mean_B = np.mean(class_A_data, axis=0), np.mean(class_B_data, axis=0)\n",
    "cov_A, cov_B = np.cov(class_A_data, rowvar=False), np.cov(class_B_data, rowvar=False)\n",
    "\n",
    "# Assuming 𝑦1 × 𝑦2 is normally distributed, estimate the parameters for this bivariate normal distribution\n",
    "mean_y1_y2_A, mean_y1_y2_B = mean_A[:2], mean_B[:2]  # Mean of {𝑦1, 𝑦2} in class A, \"\" in class B\n",
    "cov_y1_y2_A, cov_y1_y2_B = cov_A[:2, :2], cov_B[:2, :2]  # Covariance matrix of {𝑦1, 𝑦2} in class A, \"\" in class B\n",
    "\n",
    "# Calculate the covariance matrix and the mean for y1 and y2\n",
    "y1_y2_data = train_data[:, :2].astype(float)\n",
    "cov_y1_y2 = np.cov(y1_y2_data, rowvar=False)\n",
    "mean_y1_y2 = np.mean(y1_y2_data, axis=0)\n",
    "\n",
    "# Define multivariate normal distribution for y1_y2_A, y1_y2_B and y1_y2\n",
    "mvn_y1_y2_A = multivariate_normal(mean=mean_y1_y2_A, cov=cov_y1_y2_A)\n",
    "mvn_y1_y2_B = multivariate_normal(mean=mean_y1_y2_B, cov=cov_y1_y2_B)\n",
    "mvn_y1_y2 = multivariate_normal(mean=mean_y1_y2, cov=cov_y1_y2)\n",
    "\n",
    "# Count total occurrences of class A and B\n",
    "total_A = len(train_data[train_data[:, -1] == 'A'])\n",
    "total_B = len(train_data[train_data[:, -1] == 'B'])\n",
    "\n",
    "\n",
    "# Define a function to calculate probabilities\n",
    "def calculate_probability(indexes_to_test, values_to_compare, total):\n",
    "    return sum(all(observation[i] == v for i, v in zip(indexes_to_test, values_to_compare))\\\n",
    "                for observation in train_data\\\n",
    "            ) / total\n",
    "\n",
    "\n",
    "# Probabilities for class A\n",
    "p_y3_0_y4_0_A = calculate_probability([2,3,-1], ['0','0','A'], total_A)\n",
    "p_y3_1_y4_0_A = calculate_probability([2,3,-1], ['1','0','A'], total_A)\n",
    "p_y3_0_y4_1_A = calculate_probability([2,3,-1], ['0','1','A'], total_A)\n",
    "p_y3_1_y4_1_A = calculate_probability([2,3,-1], ['1','1','A'], total_A)\n",
    "\n",
    "p_y5_0_A = calculate_probability([4,-1], ['0','A'], total_A)\n",
    "p_y5_1_A = calculate_probability([4,-1], ['1','A'], total_A)\n",
    "p_y5_2_A = calculate_probability([4,-1], ['2','A'], total_A)\n",
    "\n",
    "# Probabilities for class B\n",
    "p_y3_0_y4_0_B = calculate_probability([2,3,-1], ['0','0','A'], total_B)\n",
    "p_y3_1_y4_0_B = calculate_probability([2,3,-1], ['1','0','A'], total_B)\n",
    "p_y3_0_y4_1_B = calculate_probability([2,3,-1], ['0','1','A'], total_B)\n",
    "p_y3_1_y4_1_B = calculate_probability([2,3,-1], ['1','1','A'], total_B)\n",
    "\n",
    "p_y5_0_B = calculate_probability([4,-1], ['0','A'], total_B)\n",
    "p_y5_1_B = calculate_probability([4,-1], ['1','A'], total_B)\n",
    "p_y5_2_B = calculate_probability([4,-1], ['2','A'], total_B)\n",
    "\n",
    "# Probabilities for the entire dataset\n",
    "p_y3_0_y4_0 = calculate_probability([2,3], ['0','0'], total_A + total_B)\n",
    "p_y3_1_y4_0 = calculate_probability([2,3], ['1','0'], total_A + total_B)\n",
    "p_y3_0_y4_1 = calculate_probability([2,3], ['0','1'], total_A + total_B)\n",
    "p_y3_1_y4_1 = calculate_probability([2,3], ['1','1'], total_A + total_B)\n",
    "\n",
    "p_y5_0 = calculate_probability([4], ['0'], total_A + total_B)\n",
    "p_y5_1 = calculate_probability([4], ['1'], total_A + total_B)\n",
    "p_y5_2 = calculate_probability([4], ['2'], total_A + total_B)\n",
    "\n",
    "# Organize and print the probabilities neatly\n",
    "print(\"Probabilities for Class A:\")\n",
    "print(f\"p(y3=0, y4=0|A): {round(p_y3_0_y4_0_A, 4)}\")\n",
    "print(f\"p(y3=1, y4=0|A): {round(p_y3_1_y4_0_A, 4)}\")\n",
    "print(f\"p(y3=0, y4=1|A): {round(p_y3_0_y4_1_A, 4)}\")\n",
    "print(f\"p(y3=1, y4=1|A): {round(p_y3_1_y4_1_A, 4)}\")\n",
    "print(f\"p(y5=0|A): {round(p_y5_0_A, 4)}\")\n",
    "print(f\"p(y5=1|A): {round(p_y5_1_A, 4)}\")\n",
    "print(f\"p(y5=2|A): {round(p_y5_2_A, 4)}\")\n",
    "\n",
    "print(\"\\nProbabilities for Class B:\")\n",
    "print(f\"p(y3=0, y4=0|B): {round(p_y3_0_y4_0_B, 4)}\")\n",
    "print(f\"p(y3=1, y4=0|B): {round(p_y3_1_y4_0_B, 4)}\")\n",
    "print(f\"p(y3=0, y4=1|B): {round(p_y3_0_y4_1_B, 4)}\")\n",
    "print(f\"p(y3=1, y4=1|B): {round(p_y3_1_y4_1_B, 4)}\")\n",
    "print(f\"p(y5=0|B): {round(p_y5_0_B, 4)}\")\n",
    "print(f\"p(y5=1|B): {round(p_y5_1_B, 4)}\")\n",
    "print(f\"p(y5=2|B): {round(p_y5_2_B, 4)}\")\n",
    "\n",
    "print(\"\\nProbabilities for the entire dataset:\")\n",
    "print(f\"p(y3=0, y4=0): {round(p_y3_0_y4_0, 4)}\")\n",
    "print(f\"p(y3=1, y4=0): {round(p_y3_1_y4_0, 4)}\")\n",
    "print(f\"p(y3=0, y4=1): {round(p_y3_0_y4_1, 4)}\")\n",
    "print(f\"p(y3=1, y4=1): {round(p_y3_1_y4_1, 4)}\")\n",
    "print(f\"p(y5=0): {round(p_y5_0, 4)}\")\n",
    "print(f\"p(y5=1): {round(p_y5_1, 4)}\")\n",
    "print(f\"p(y5=2): {round(p_y5_2, 4)}\")\n",
    "\n",
    "\n",
    "# Print the calculated parameters and prior probabilities\n",
    "print(\"\\nParameters for Bivariate Normal Distribution 𝑦1 × 𝑦2 in Class A:\")\n",
    "print(\"Mean:\", mean_y1_y2_A)\n",
    "print(\"Covariance Matrix:\")\n",
    "print(cov_y1_y2_A)\n",
    "print(\"\\nParameters for Bivariate Normal Distribution 𝑦1 × 𝑦2 in Class B:\")\n",
    "print(\"Mean:\", mean_y1_y2_B)\n",
    "print(\"Covariance Matrix:\")\n",
    "print(cov_y1_y2_B)\n",
    "print(\"\\nPrior Probabilities:\")\n",
    "print(\"P(y6=A):\", prior_A)\n",
    "print(\"P(y6=B):\", prior_B)\n"
   ]
  },
  {
   "cell_type": "code",
   "execution_count": 88,
   "metadata": {},
   "outputs": [
    {
     "name": "stdout",
     "output_type": "stream",
     "text": [
      "The likelihood P(x8 | z=A) is 0.9847\n",
      "0.04689070270022746\n",
      "The likelihood P(x8 | z=B) is 1.9624\n",
      "0.07008461206653069\n",
      "The likelihood P(x9 | z=A) is 0.4031\n",
      "0.019193856472981684\n",
      "The likelihood P(x9 | z=B) is 1.7286\n",
      "0.10975051347450529\n"
     ]
    }
   ],
   "source": [
    "# Define the observed test values of y1,y2\n",
    "x8 = np.array([0.38, 0.52])\n",
    "x9= np.array([0.42, 0.59]) \n",
    "\n",
    "# Calculate the likelihood P(x | z=A)\n",
    "likelihood_A_x8 = mvn_y1_y2_A.pdf(x8)\n",
    "likelihood_B_x8 = mvn_y1_y2_B.pdf(x8)\n",
    "likelihood_A_x9 = mvn_y1_y2_A.pdf(x9)\n",
    "likelihood_B_x9 = mvn_y1_y2_B.pdf(x9)\n",
    "\n",
    "print(f\"The likelihood P(x8 | z=A) is {round(likelihood_A_x8, 4)}\")\n",
    "print(likelihood_A_x8 /9 * 3/7)\n",
    "print(f\"The likelihood P(x8 | z=B) is {round(likelihood_B_x8, 4)}\")\n",
    "print(likelihood_B_x8 /16 * 4/7)\n",
    "print(f\"The likelihood P(x9 | z=A) is {round(likelihood_A_x9, 4)}\")\n",
    "print(likelihood_A_x9 /9 * 3/7)\n",
    "print(f\"The likelihood P(x9 | z=B) is {round(likelihood_B_x9, 4)}\")\n",
    "print(likelihood_B_x9 /9 * 4/7)"
   ]
  },
  {
   "cell_type": "markdown",
   "metadata": {},
   "source": [
    "**b.) [2.5v] Under a MAP assumption, classify each testing observation showing all your calculus.**\n"
   ]
  },
  {
   "cell_type": "markdown",
   "metadata": {},
   "source": [
    "**c.) [2v] Consider that the default decision threshold of 𝜃 = 0.5 can be adjusted according to 𝑓(𝐱|𝜃) = { A 𝑃(A|𝐱) > 𝜃 B otherwise . Under a maximum likelihood assumption, what thresholds optimize testing accuracy?**"
   ]
  },
  {
   "cell_type": "markdown",
   "metadata": {},
   "source": [
    "### 2) Let 𝑦1 be the target numeric variable, 𝑦2-𝑦6 be the input variables where 𝑦2 is binarized under an equal-width (equal-range) discretization. For the evaluation of regressors, consider a 3-fold cross-validation over the full dataset (𝐱1- 𝐱9) without shuffling the observations.\n",
    "\n",
    "**a. [1v] Identify the observations and features per data fold after the binarization procedure.**\n",
    "\n",
    "**b. [4v] Consider a distance-weighted 𝑘NN with 𝑘 = 3, Hamming distance (𝑑), and 1/𝑑 weighting. Compute the MAE of this 𝑘NN regressor for the 1st iteration of the cross-validation (i.e. train observations have the lower indices).**\n"
   ]
  },
  {
   "cell_type": "code",
   "execution_count": null,
   "metadata": {},
   "outputs": [],
   "source": []
  },
  {
   "cell_type": "markdown",
   "metadata": {},
   "source": [
    "## Programming [7v]\n",
    "\n",
    "**Considering the column_diagnosis.arff dataset available at the course webpage’s homework tab.\n",
    "Using sklearn, apply a 10-fold stratified cross-validation with shuffling (random_state=0) for the\n",
    "assessment of predictive models along this section.**\n"
   ]
  },
  {
   "cell_type": "code",
   "execution_count": 89,
   "metadata": {},
   "outputs": [],
   "source": [
    "\n",
    "import pandas as pd\n",
    "from scipy.io.arff import loadarff\n",
    "from sklearn.model_selection import cross_val_score, StratifiedKFold\n",
    "from sklearn.svm import SVC\n",
    "\n",
    "data = loadarff('column_diagnosis.arff')\n",
    "df = pd.DataFrame(data[0])\n",
    "df['class'] = df['class'].str.decode('utf-8')\n",
    "\n",
    "X = df.drop(columns=['class'])  \n",
    "y = df['class']   \n",
    "\n",
    "\n",
    "stratified_kfold = StratifiedKFold(n_splits=10, shuffle=True, random_state=0)\n"
   ]
  },
  {
   "cell_type": "markdown",
   "metadata": {},
   "source": [
    "### 1) [3v]\n",
    "\n",
    "**Compare the performance of 𝑘NN with 𝑘 = 5 and naïve Bayes with Gaussian assumption\n",
    "(consider all remaining parameters for each classifier as sklearn’s default):\n",
    "a. Plot two boxplots with the fold accuracies for each classifier.\n",
    "b. Using scipy, test the hypothesis “𝑘NN is statistically superior to naïve Bayes regarding\n",
    "accuracy”, asserting whether is true**\n"
   ]
  },
  {
   "cell_type": "code",
   "execution_count": 90,
   "metadata": {},
   "outputs": [
    {
     "data": {
      "image/png": "[encoded data removed]",
      "text/plain": [
       "<Figure size 640x480 with 1 Axes>"
      ]
     },
     "metadata": {},
     "output_type": "display_data"
    }
   ],
   "source": [
    "#a) plot two boxplost with the fold accuracies for kNN with k=5 and naive Bayes with Gaussian assumptions\n",
    "import matplotlib.pyplot as plt\n",
    "from sklearn.naive_bayes import GaussianNB\n",
    "from sklearn.neighbors import KNeighborsClassifier\n",
    "\n",
    "classifiers = [\n",
    "    KNeighborsClassifier(n_neighbors=5),\n",
    "    GaussianNB()\n",
    "]\n",
    "\n",
    "classifier_names = [\n",
    "    'kNN (k=5)',\n",
    "    'Naive Bayes (Gaussian)'\n",
    "]\n",
    "\n",
    "classifier_accuracies = []\n",
    "\n",
    "for classifier in classifiers:\n",
    "    accuracies = cross_val_score(classifier, X, y, cv=stratified_kfold)\n",
    "    classifier_accuracies.append(accuracies)\n",
    "\n",
    "plt.boxplot(classifier_accuracies)\n",
    "plt.xticks(np.arange(1, len(classifier_names) + 1), classifier_names)\n",
    "plt.xlabel('Classifier')\n",
    "plt.ylabel('Accuracy')\n",
    "plt.title('10-fold Stratified Cross-Validation')\n",
    "plt.show()\n"
   ]
  },
  {
   "cell_type": "code",
   "execution_count": 91,
   "metadata": {},
   "outputs": [
    {
     "name": "stdout",
     "output_type": "stream",
     "text": [
      "P-value: 0.19042809062064092\n",
      "Hypothesis Test Result: k-NN is not statistically superior to Naive Bayes\n"
     ]
    }
   ],
   "source": [
    "#b) Using scipy, test the hypothesis “𝑘NN is statistically superior to naïve Bayes regarding accuracy”, asserting whether is true\n",
    "\n",
    "from scipy import stats\n",
    "\n",
    "p_value = stats.ttest_rel(classifier_accuracies[0], classifier_accuracies[1], alternative='greater').pvalue\n",
    "\n",
    "# Define the significance level\n",
    "alpha = 0.05\n",
    "\n",
    "if p_value < alpha:\n",
    "    result = \"k-NN is statistically superior to Naive Bayes\"\n",
    "else:\n",
    "    result = \"k-NN is not statistically superior to Naive Bayes\"\n",
    "\n",
    "print(\"P-value:\", p_value)\n",
    "print(\"Hypothesis Test Result:\", result)\n"
   ]
  },
  {
   "cell_type": "markdown",
   "metadata": {},
   "source": [
    "In accordance with the provided specifications, the p-value is 0.38. At commonly used significance levels (e.g., α = 0.1), it is not possible to reject the null hypothesis. Consequently, we cannot claim that the proposed hypothesis is valid. It's important to emphasize that we should avoid concluding that the given hypothesis is false or rejected without conducting further statistical tests."
   ]
  },
  {
   "cell_type": "markdown",
   "metadata": {},
   "source": [
    "### 2) [2.5v]\n",
    "\n",
    "**Consider two 𝑘NN predictors with 𝑘 = 1 and 𝑘 = 5 (uniform weights, Euclidean distance,\n",
    "all remaining parameters as default). Plot the differences between the two cumulative confusion\n",
    "matrices of the predictors. Comment.**\n"
   ]
  },
  {
   "cell_type": "code",
   "execution_count": 92,
   "metadata": {},
   "outputs": [
    {
     "name": "stdout",
     "output_type": "stream",
     "text": [
      "Confusion Matrix for k = 1:\n",
      "[[ 37  23   0]\n",
      " [ 14  80   6]\n",
      " [  1   7 142]]\n",
      "\n",
      "Confusion Matrix for k = 5:\n",
      "[[ 39  21   0]\n",
      " [ 19  78   3]\n",
      " [  1   6 143]]\n",
      "\n",
      "Difference in Cumulative Confusion Matrices (k=1 - k=5):\n",
      "[[-2  2  0]\n",
      " [-5  2  3]\n",
      " [ 0  1 -1]]\n"
     ]
    },
    {
     "data": {
      "image/png": "[encoded data removed]",
      "text/plain": [
       "<Figure size 800x600 with 2 Axes>"
      ]
     },
     "metadata": {},
     "output_type": "display_data"
    }
   ],
   "source": [
    "import numpy as np\n",
    "import matplotlib.pyplot as plt\n",
    "from sklearn.neighbors import KNeighborsClassifier\n",
    "from sklearn.metrics import confusion_matrix\n",
    "from sklearn.preprocessing import LabelEncoder\n",
    "\n",
    "knn_k1 = KNeighborsClassifier(n_neighbors=1, weights='uniform', metric='euclidean')\n",
    "knn_k5 = KNeighborsClassifier(n_neighbors=5, weights='uniform', metric='euclidean')\n",
    "\n",
    "cm_k1, cm_k5= np.array([[0,0,0],[0,0,0],[0,0,0]]), np.array([[0,0,0],[0,0,0],[0,0,0]])\n",
    "\n",
    "\n",
    "X = df.iloc[:, :-1].values\n",
    "\n",
    "label_encoder = LabelEncoder()\n",
    "y = label_encoder.fit_transform(df.iloc[:, -1])\n",
    "\n",
    "for train_index, test_index in stratified_kfold .split(X, y):\n",
    "    \n",
    "    X_train, X_test = X[train_index], X[test_index]\n",
    "    y_train, y_test = y[train_index], y[test_index]\n",
    "    knn_k1.fit(X_train, y_train)\n",
    "    knn_k5.fit(X_train, y_train)\n",
    "    y_pred_1 = knn_k1.predict(X_test)\n",
    "    y_pred_5 = knn_k5.predict(X_test)\n",
    "    cm_k1+= confusion_matrix(y_test, y_pred_1)\n",
    "    cm_k5+= confusion_matrix(y_test, y_pred_5)\n",
    "\n",
    "cm_diff = cm_k1 - cm_k5\n",
    "\n",
    "\n",
    "# Print confusion matrices in text form\n",
    "print(\"Confusion Matrix for k = 1:\")\n",
    "print(cm_k1)\n",
    "\n",
    "print(\"\\nConfusion Matrix for k = 5:\")\n",
    "print(cm_k5)\n",
    "\n",
    "# Calculate the difference in cumulative confusion matrices\n",
    "cm_diff = cm_k1 - cm_k5\n",
    "\n",
    "print(\"\\nDifference in Cumulative Confusion Matrices (k=1 - k=5):\")\n",
    "print(cm_diff)\n",
    "\n",
    "plt.figure(figsize=(8, 6))\n",
    "plt.imshow(cm_diff, cmap='coolwarm', interpolation='nearest')\n",
    "plt.colorbar()\n",
    "plt.title(\"Difference in Cumulative Confusion Matrices (k=1 - k=5)\")\n",
    "plt.xticks(np.arange(3), ['Hernia', 'Normal', 'Spondylolisthesis'])\n",
    "plt.yticks(np.arange(3), ['Hernia', 'Normal', 'Spondylolisthesis'])\n",
    "plt.xlabel('Predicted')\n",
    "plt.ylabel('True')\n",
    "for i in range(len(np.unique(y))):\n",
    "    for j in range(len(np.unique(y))):\n",
    "        plt.text(j, i, cm_diff[i, j], ha=\"center\", va=\"center\")\n",
    "plt.show()"
   ]
  },
  {
   "cell_type": "markdown",
   "metadata": {},
   "source": []
  },
  {
   "cell_type": "markdown",
   "metadata": {},
   "source": [
    "### 3) [1.5v]\n",
    "\n",
    "**Considering the unique properties of column_diagnosis, identify three possible difficulties\n",
    "of naïve Bayes when learning from the given dataset.**\n"
   ]
  },
  {
   "cell_type": "markdown",
   "metadata": {},
   "source": []
  }
 ],
 "metadata": {
  "kernelspec": {
   "display_name": "Python 3",
   "language": "python",
   "name": "python3"
  },
  "language_info": {
   "codemirror_mode": {
    "name": "ipython",
    "version": 3
   },
   "file_extension": ".py",
   "mimetype": "text/x-python",
   "name": "python",
   "nbconvert_exporter": "python",
   "pygments_lexer": "ipython3",
   "version": "3.8.10"
  }
 },
 "nbformat": 4,
 "nbformat_minor": 2
}
