{
 "cells": [
  {
   "cell_type": "markdown",
   "metadata": {},
   "source": [
    "# Homework I\n",
    "\n",
    "Joana Peixinho (ist1103335) & Miguel Fernandes (ist1103573)\n"
   ]
  },
  {
   "cell_type": "markdown",
   "metadata": {},
   "source": [
    "## I. Pen and Paper [13v]\n",
    "\n",
    "Consider the following dataset\n"
   ]
  },
  {
   "cell_type": "markdown",
   "metadata": {},
   "source": [
    "![Decision Tree](./decision_tree.png)\n"
   ]
  },
  {
   "cell_type": "markdown",
   "metadata": {},
   "source": [
    "### 1) Consider 𝐱1–𝐱7 to be training observations, 𝐱8–𝐱9 to be testing observations, 𝑦1– 𝑦5 to be input variables and 𝑦6 to be the target variable. Hint: you can use scipy.stats.multivariate_normal for multivariate distribution calculus\n",
    "\n",
    "**a.) [3.5v] Learn a Bayesian classifier assuming: i) {𝑦1, 𝑦2}, {𝑦3, 𝑦4} and {𝑦5} sets of independent variables (e.g., 𝑦1 ⫫ 𝑦3 yet 𝑦1 ⫫ 𝑦2), and  ii) 𝑦1 × 𝑦2 ∈ ℝ2 is normally distributed.  Show all parameters (distributions and priors for subsequent testing).**\n",
    "\n"
   ]
  },
  {
   "cell_type": "code",
   "execution_count": 7,
   "metadata": {},
   "outputs": [
    {
     "name": "stdout",
     "output_type": "stream",
     "text": [
      "Probabilities for Class A:\n",
      "p(y3=0, y4=0|A): 0.0\n",
      "p(y3=1, y4=0|A): 0.3333\n",
      "p(y3=0, y4=1|A): 0.3333\n",
      "p(y3=1, y4=1|A): 0.3333\n",
      "p(y5=0|A): 0.3333\n",
      "p(y5=1|A): 0.3333\n",
      "p(y5=2|A): 0.3333\n",
      "\n",
      "Probabilities for Class B:\n",
      "p(y3=0, y4=0|B): 0.0\n",
      "p(y3=1, y4=0|B): 0.25\n",
      "p(y3=0, y4=1|B): 0.25\n",
      "p(y3=1, y4=1|B): 0.25\n",
      "p(y5=0|B): 0.25\n",
      "p(y5=1|B): 0.25\n",
      "p(y5=2|B): 0.25\n",
      "\n",
      "Probabilities for the entire dataset:\n",
      "p(y3=0, y4=0): 0.2857\n",
      "p(y3=1, y4=0): 0.2857\n",
      "p(y3=0, y4=1): 0.2857\n",
      "p(y3=1, y4=1): 0.1429\n",
      "p(y5=0): 0.2857\n",
      "p(y5=1): 0.4286\n",
      "p(y5=2): 0.2857\n",
      "\n",
      "Parameters for Bivariate Normal Distribution 𝑦1 × 𝑦2 in Class A:\n",
      "Mean: [0.24 0.52]\n",
      "Covariance Matrix:\n",
      "[[0.0064 0.0096]\n",
      " [0.0096 0.0336]]\n",
      "\n",
      "Parameters for Bivariate Normal Distribution 𝑦1 × 𝑦2 in Class B:\n",
      "Mean: [0.5925 0.3275]\n",
      "Covariance Matrix:\n",
      "[[ 0.02289167 -0.00975833]\n",
      " [-0.00975833  0.03149167]]\n",
      "\n",
      "Prior Probabilities:\n",
      "P(y6=A): 0.42857142857142855\n",
      "P(y6=B): 0.5714285714285714\n"
     ]
    }
   ],
   "source": [
    "import numpy as np\n",
    "from scipy.stats import multivariate_normal\n",
    "# P(z|x) = P(x|z) * P(z) / P(x)\n",
    "\n",
    "# Training data for y1, y2, y3, y4, y5, y6\n",
    "train_data = np.array([\n",
    "    [0.24, 0.36, 1, 1, 0, 'A'],\n",
    "    [0.16, 0.48, 1, 0, 1, 'A'],\n",
    "    [0.32, 0.72, 0, 1, 2, 'A'],\n",
    "    [0.54, 0.11, 0, 0, 1, 'B'],\n",
    "    [0.66, 0.39, 0, 0, 0, 'B'],\n",
    "    [0.76, 0.28, 1, 0, 2, 'B'],\n",
    "    [0.41, 0.53, 0, 1, 1, 'B'],\n",
    "    \n",
    "])\n",
    "\n",
    "# Separate data by class A and B\n",
    "class_A_data = train_data[train_data[:, -1] == 'A'][:, :-1].astype(float)\n",
    "class_B_data = train_data[train_data[:, -1] == 'B'][:, :-1].astype(float)\n",
    "\n",
    "# Calculate PRIOR probabilities [ P(z) = P(y6=A) and P(z) = P(y6=B)]\n",
    "prior_A, prior_B = len(class_A_data) / len(train_data), len(class_B_data) / len(train_data)\n",
    "\n",
    "# Calculate means and covariance matrices for y1, y2, y3, y4, y5 in class A and B\n",
    "mean_A, mean_B = np.mean(class_A_data, axis=0), np.mean(class_B_data, axis=0)\n",
    "cov_A, cov_B = np.cov(class_A_data, rowvar=False), np.cov(class_B_data, rowvar=False)\n",
    "\n",
    "# Assuming 𝑦1 × 𝑦2 is normally distributed, estimate the parameters for this bivariate normal distribution\n",
    "mean_y1_y2_A, mean_y1_y2_B = mean_A[:2], mean_B[:2]  # Mean of {𝑦1, 𝑦2} in class A, \"\" in class B\n",
    "cov_y1_y2_A, cov_y1_y2_B = cov_A[:2, :2], cov_B[:2, :2]  # Covariance matrix of {𝑦1, 𝑦2} in class A, \"\" in class B\n",
    "\n",
    "# Calculate the covariance matrix and the mean for y1 and y2\n",
    "y1_y2_data = train_data[:, :2].astype(float)\n",
    "cov_y1_y2 = np.cov(y1_y2_data, rowvar=False)\n",
    "mean_y1_y2 = np.mean(y1_y2_data, axis=0)\n",
    "\n",
    "# Define multivariate normal distribution for y1_y2_A, y1_y2_B and y1_y2\n",
    "mvn_y1_y2_A = multivariate_normal(mean=mean_y1_y2_A, cov=cov_y1_y2_A)\n",
    "mvn_y1_y2_B = multivariate_normal(mean=mean_y1_y2_B, cov=cov_y1_y2_B)\n",
    "mvn_y1_y2 = multivariate_normal(mean=mean_y1_y2, cov=cov_y1_y2)\n",
    "\n",
    "# Count total occurrences of class A and B\n",
    "total_A = len(train_data[train_data[:, -1] == 'A'])\n",
    "total_B = len(train_data[train_data[:, -1] == 'B'])\n",
    "\n",
    "\n",
    "# Define a function to calculate probabilities\n",
    "def calculate_probability(indexes_to_test, values_to_compare, total):\n",
    "    return sum(all(observation[i] == v for i, v in zip(indexes_to_test, values_to_compare))\\\n",
    "                for observation in train_data\\\n",
    "            ) / total\n",
    "\n",
    "\n",
    "# Probabilities for class A\n",
    "p_y3_0_y4_0_A = calculate_probability([2,3,-1], ['0','0','A'], total_A)\n",
    "p_y3_1_y4_0_A = calculate_probability([2,3,-1], ['1','0','A'], total_A)\n",
    "p_y3_0_y4_1_A = calculate_probability([2,3,-1], ['0','1','A'], total_A)\n",
    "p_y3_1_y4_1_A = calculate_probability([2,3,-1], ['1','1','A'], total_A)\n",
    "\n",
    "p_y5_0_A = calculate_probability([4,-1], ['0','A'], total_A)\n",
    "p_y5_1_A = calculate_probability([4,-1], ['1','A'], total_A)\n",
    "p_y5_2_A = calculate_probability([4,-1], ['2','A'], total_A)\n",
    "\n",
    "# Probabilities for class B\n",
    "p_y3_0_y4_0_B = calculate_probability([2,3,-1], ['0','0','B'], total_B)\n",
    "p_y3_1_y4_0_B = calculate_probability([2,3,-1], ['1','0','B'], total_B)\n",
    "p_y3_0_y4_1_B = calculate_probability([2,3,-1], ['0','1','B'], total_B)\n",
    "p_y3_1_y4_1_B = calculate_probability([2,3,-1], ['1','1','B'], total_B)\n",
    "\n",
    "p_y5_0_B = calculate_probability([4,-1], ['0','B'], total_B)\n",
    "p_y5_1_B = calculate_probability([4,-1], ['1','B'], total_B)\n",
    "p_y5_2_B = calculate_probability([4,-1], ['2','B'], total_B)\n",
    "\n",
    "# Probabilities for the entire dataset\n",
    "p_y3_0_y4_0 = calculate_probability([2,3], ['0','0'], total_A + total_B)\n",
    "p_y3_1_y4_0 = calculate_probability([2,3], ['1','0'], total_A + total_B)\n",
    "p_y3_0_y4_1 = calculate_probability([2,3], ['0','1'], total_A + total_B)\n",
    "p_y3_1_y4_1 = calculate_probability([2,3], ['1','1'], total_A + total_B)\n",
    "\n",
    "p_y5_0 = calculate_probability([4], ['0'], total_A + total_B)\n",
    "p_y5_1 = calculate_probability([4], ['1'], total_A + total_B)\n",
    "p_y5_2 = calculate_probability([4], ['2'], total_A + total_B)\n",
    "\n",
    "# Organize and print the probabilities neatly\n",
    "print(\"Probabilities for Class A:\")\n",
    "print(f\"p(y3=0, y4=0|A): {round(p_y3_0_y4_0_A, 4)}\")\n",
    "print(f\"p(y3=1, y4=0|A): {round(p_y3_1_y4_0_A, 4)}\")\n",
    "print(f\"p(y3=0, y4=1|A): {round(p_y3_0_y4_1_A, 4)}\")\n",
    "print(f\"p(y3=1, y4=1|A): {round(p_y3_1_y4_1_A, 4)}\")\n",
    "print(f\"p(y5=0|A): {round(p_y5_0_A, 4)}\")\n",
    "print(f\"p(y5=1|A): {round(p_y5_1_A, 4)}\")\n",
    "print(f\"p(y5=2|A): {round(p_y5_2_A, 4)}\")\n",
    "\n",
    "print(\"\\nProbabilities for Class B:\")\n",
    "print(f\"p(y3=0, y4=0|B): {round(p_y3_0_y4_0_B, 4)}\")\n",
    "print(f\"p(y3=1, y4=0|B): {round(p_y3_1_y4_0_B, 4)}\")\n",
    "print(f\"p(y3=0, y4=1|B): {round(p_y3_0_y4_1_B, 4)}\")\n",
    "print(f\"p(y3=1, y4=1|B): {round(p_y3_1_y4_1_B, 4)}\")\n",
    "print(f\"p(y5=0|B): {round(p_y5_0_B, 4)}\")\n",
    "print(f\"p(y5=1|B): {round(p_y5_1_B, 4)}\")\n",
    "print(f\"p(y5=2|B): {round(p_y5_2_B, 4)}\")\n",
    "\n",
    "print(\"\\nProbabilities for the entire dataset:\")\n",
    "print(f\"p(y3=0, y4=0): {round(p_y3_0_y4_0, 4)}\")\n",
    "print(f\"p(y3=1, y4=0): {round(p_y3_1_y4_0, 4)}\")\n",
    "print(f\"p(y3=0, y4=1): {round(p_y3_0_y4_1, 4)}\")\n",
    "print(f\"p(y3=1, y4=1): {round(p_y3_1_y4_1, 4)}\")\n",
    "print(f\"p(y5=0): {round(p_y5_0, 4)}\")\n",
    "print(f\"p(y5=1): {round(p_y5_1, 4)}\")\n",
    "print(f\"p(y5=2): {round(p_y5_2, 4)}\")\n",
    "\n",
    "\n",
    "# Print the calculated parameters and prior probabilities\n",
    "print(\"\\nParameters for Bivariate Normal Distribution 𝑦1 × 𝑦2 in Class A:\")\n",
    "print(\"Mean:\", mean_y1_y2_A)\n",
    "print(\"Covariance Matrix:\")\n",
    "print(cov_y1_y2_A)\n",
    "print(\"\\nParameters for Bivariate Normal Distribution 𝑦1 × 𝑦2 in Class B:\")\n",
    "print(\"Mean:\", mean_y1_y2_B)\n",
    "print(\"Covariance Matrix:\")\n",
    "print(cov_y1_y2_B)\n",
    "print(\"\\nPrior Probabilities:\")\n",
    "print(\"P(y6=A):\", prior_A)\n",
    "print(\"P(y6=B):\", prior_B)\n"
   ]
  },
  {
   "cell_type": "code",
   "execution_count": 8,
   "metadata": {},
   "outputs": [
    {
     "name": "stdout",
     "output_type": "stream",
     "text": [
      "The likelihood P(x8 | z=A) is 0.9847\n",
      "0.04689070270022746\n",
      "The likelihood P(x8 | z=B) is 1.9624\n",
      "0.07008461206653069\n",
      "The likelihood P(x9 | z=A) is 0.4031\n",
      "0.019193856472981684\n",
      "The likelihood P(x9 | z=B) is 1.7286\n",
      "0.10975051347450529\n"
     ]
    }
   ],
   "source": [
    "# Define the observed test values of y1,y2\n",
    "x8 = np.array([0.38, 0.52])\n",
    "x9= np.array([0.42, 0.59]) \n",
    "\n",
    "# Calculate the likelihood P(x | z=A)\n",
    "likelihood_A_x8 = mvn_y1_y2_A.pdf(x8)\n",
    "likelihood_B_x8 = mvn_y1_y2_B.pdf(x8)\n",
    "likelihood_A_x9 = mvn_y1_y2_A.pdf(x9)\n",
    "likelihood_B_x9 = mvn_y1_y2_B.pdf(x9)\n",
    "\n",
    "print(f\"The likelihood P(x8 | z=A) is {round(likelihood_A_x8, 4)}\")\n",
    "print(likelihood_A_x8 /9 * 3/7)\n",
    "print(f\"The likelihood P(x8 | z=B) is {round(likelihood_B_x8, 4)}\")\n",
    "print(likelihood_B_x8 /16 * 4/7)\n",
    "print(f\"The likelihood P(x9 | z=A) is {round(likelihood_A_x9, 4)}\")\n",
    "print(likelihood_A_x9 /9 * 3/7)\n",
    "print(f\"The likelihood P(x9 | z=B) is {round(likelihood_B_x9, 4)}\")\n",
    "print(likelihood_B_x9 /8 * 4/7)"
   ]
  },
  {
   "cell_type": "markdown",
   "metadata": {},
   "source": [
    "**b.) [2.5v] Under a MAP assumption, classify each testing observation showing all your calculus.**\n"
   ]
  },
  {
   "cell_type": "markdown",
   "metadata": {},
   "source": [
    "**c.) [2v] Consider that the default decision threshold of 𝜃 = 0.5 can be adjusted according to 𝑓(𝐱|𝜃) = { A 𝑃(A|𝐱) > 𝜃 B otherwise . Under a maximum likelihood assumption, what thresholds optimize testing accuracy?**"
   ]
  },
  {
   "cell_type": "markdown",
   "metadata": {},
   "source": [
    "### 2) Let 𝑦1 be the target numeric variable, 𝑦2-𝑦6 be the input variables where 𝑦2 is binarized under an equal-width (equal-range) discretization. For the evaluation of regressors, consider a 3-fold cross-validation over the full dataset (𝐱1- 𝐱9) without shuffling the observations.\n",
    "\n",
    "**a. [1v] Identify the observations and features per data fold after the binarization procedure.**\n",
    "\n",
    "**b. [4v] Consider a distance-weighted 𝑘NN with 𝑘 = 3, Hamming distance (𝑑), and 1/𝑑 weighting. Compute the MAE of this 𝑘NN regressor for the 1st iteration of the cross-validation (i.e. train observations have the lower indices).**\n"
   ]
  },
  {
   "cell_type": "code",
   "execution_count": null,
   "metadata": {},
   "outputs": [],
   "source": []
  },
  {
   "cell_type": "markdown",
   "metadata": {},
   "source": [
    "## Programming [7v]\n",
    "\n",
    "**Considering the column_diagnosis.arff dataset available at the course webpage’s homework tab.\n",
    "Using sklearn, apply a 10-fold stratified cross-validation with shuffling (random_state=0) for the\n",
    "assessment of predictive models along this section.**\n"
   ]
  },
  {
   "cell_type": "code",
   "execution_count": 9,
   "metadata": {},
   "outputs": [],
   "source": [
    "\n",
    "import pandas as pd\n",
    "from scipy.io.arff import loadarff\n",
    "from sklearn.model_selection import cross_val_score, StratifiedKFold\n",
    "from sklearn.svm import SVC\n",
    "\n",
    "data = loadarff('column_diagnosis.arff')\n",
    "df = pd.DataFrame(data[0])\n",
    "df['class'] = df['class'].str.decode('utf-8')\n",
    "\n",
    "X = df.drop(columns=['class'])  \n",
    "y = df['class']   \n",
    "\n",
    "\n",
    "stratified_kfold = StratifiedKFold(n_splits=10, shuffle=True, random_state=0)\n"
   ]
  },
  {
   "cell_type": "markdown",
   "metadata": {},
   "source": [
    "### 1) [3v]\n",
    "\n",
    "**Compare the performance of 𝑘NN with 𝑘 = 5 and naïve Bayes with Gaussian assumption\n",
    "(consider all remaining parameters for each classifier as sklearn’s default):\n",
    "a. Plot two boxplots with the fold accuracies for each classifier.\n",
    "b. Using scipy, test the hypothesis “𝑘NN is statistically superior to naïve Bayes regarding\n",
    "accuracy”, asserting whether is true**\n"
   ]
  },
  {
   "cell_type": "code",
   "execution_count": 10,
   "metadata": {},
   "outputs": [
    {
     "data": {
      "image/png": "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",
      "text/plain": [
       "<Figure size 640x480 with 1 Axes>"
      ]
     },
     "metadata": {},
     "output_type": "display_data"
    }
   ],
   "source": [
    "#a) plot two boxplost with the fold accuracies for kNN with k=5 and naive Bayes with Gaussian assumptions\n",
    "import matplotlib.pyplot as plt\n",
    "from sklearn.naive_bayes import GaussianNB\n",
    "from sklearn.neighbors import KNeighborsClassifier\n",
    "\n",
    "classifiers = [\n",
    "    KNeighborsClassifier(n_neighbors=5),\n",
    "    GaussianNB()\n",
    "]\n",
    "\n",
    "classifier_names = [\n",
    "    'kNN (k=5)',\n",
    "    'Naive Bayes (Gaussian)'\n",
    "]\n",
    "\n",
    "classifier_accuracies = []\n",
    "\n",
    "for classifier in classifiers:\n",
    "    accuracies = cross_val_score(classifier, X, y, cv=stratified_kfold)\n",
    "    classifier_accuracies.append(accuracies)\n",
    "\n",
    "plt.boxplot(classifier_accuracies)\n",
    "plt.xticks(np.arange(1, len(classifier_names) + 1), classifier_names)\n",
    "plt.xlabel('Classifier')\n",
    "plt.ylabel('Accuracy')\n",
    "plt.title('10-fold Stratified Cross-Validation')\n",
    "plt.show()\n"
   ]
  },
  {
   "cell_type": "code",
   "execution_count": 11,
   "metadata": {},
   "outputs": [
    {
     "name": "stdout",
     "output_type": "stream",
     "text": [
      "P-value: 0.19042809062064092\n",
      "Hypothesis Test Result: k-NN is not statistically superior to Naive Bayes\n"
     ]
    }
   ],
   "source": [
    "#b) Using scipy, test the hypothesis “𝑘NN is statistically superior to naïve Bayes regarding accuracy”, asserting whether is true\n",
    "\n",
    "from scipy import stats\n",
    "\n",
    "p_value = stats.ttest_rel(classifier_accuracies[0], classifier_accuracies[1], alternative='greater').pvalue\n",
    "\n",
    "# Define the significance level\n",
    "alpha = 0.05\n",
    "\n",
    "if p_value < alpha:\n",
    "    result = \"k-NN is statistically superior to Naive Bayes\"\n",
    "else:\n",
    "    result = \"k-NN is not statistically superior to Naive Bayes\"\n",
    "\n",
    "print(\"P-value:\", p_value)\n",
    "print(\"Hypothesis Test Result:\", result)\n"
   ]
  },
  {
   "cell_type": "markdown",
   "metadata": {},
   "source": [
    "In accordance with the provided specifications, the p-value is 0.38. At commonly used significance levels (e.g., α = 0.1), it is not possible to reject the null hypothesis. Consequently, we cannot claim that the proposed hypothesis is valid. It's important to emphasize that we should avoid concluding that the given hypothesis is false or rejected without conducting further statistical tests."
   ]
  },
  {
   "cell_type": "markdown",
   "metadata": {},
   "source": [
    "### 2) [2.5v]\n",
    "\n",
    "**Consider two 𝑘NN predictors with 𝑘 = 1 and 𝑘 = 5 (uniform weights, Euclidean distance,\n",
    "all remaining parameters as default). Plot the differences between the two cumulative confusion\n",
    "matrices of the predictors. Comment.**\n"
   ]
  },
  {
   "cell_type": "code",
   "execution_count": 12,
   "metadata": {},
   "outputs": [
    {
     "data": {
      "image/png": "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",
      "text/plain": [
       "<Figure size 800x600 with 2 Axes>"
      ]
     },
     "metadata": {},
     "output_type": "display_data"
    }
   ],
   "source": [
    "import numpy as np\n",
    "import matplotlib.pyplot as plt\n",
    "from sklearn.neighbors import KNeighborsClassifier\n",
    "from sklearn.metrics import confusion_matrix\n",
    "from sklearn.preprocessing import LabelEncoder\n",
    "\n",
<<<<<<< HEAD
    "knn_k1 = KNeighborsClassifier(n_neighbors=1)\n",
    "knn_k5 = KNeighborsClassifier(n_neighbors=5)\n",
    "\n",
    "knn_k1.fit(X, y)\n",
    "knn_k5.fit(X, y)\n",
    "y_pred_k1 = knn_k1.predict(X)\n",
    "y_pred_k5 = knn_k5.predict(X)\n",
    "\n",
    "cm_k1 = confusion_matrix(y, y_pred_k1)\n",
    "cm_k5 = confusion_matrix(y, y_pred_k5)\n",
    "\n",
=======
    "# Create two k-NN classifiers with k=1 and k=5\n",
    "knn_k1 = KNeighborsClassifier(n_neighbors=1, weights='uniform', metric='euclidean')\n",
    "knn_k5 = KNeighborsClassifier(n_neighbors=5, weights='uniform', metric='euclidean')\n",
    "\n",
    "#Inialize the confusion matrices\n",
    "cm_k1, cm_k5= np.array([[0,0,0],[0,0,0],[0,0,0]]), np.array([[0,0,0],[0,0,0],[0,0,0]])\n",
    "\n",
    "X = df.iloc[:, :-1].values\n",
    "label_encoder = LabelEncoder()\n",
    "y = label_encoder.fit_transform(df.iloc[:, -1])\n",
    "\n",
    "\n",
    "for train_index, test_index in stratified_kfold .split(X, y):\n",
    "    \n",
    "    X_train, X_test = X[train_index], X[test_index]\n",
    "    y_train, y_test = y[train_index], y[test_index]\n",
    "    # Fit the classifiers to the training data\n",
    "    knn_k1.fit(X_train, y_train)\n",
    "    knn_k5.fit(X_train, y_train)\n",
    "\n",
    "    # Make predictions on the test data\n",
    "    y_pred_1 = knn_k1.predict(X_test)\n",
    "    y_pred_5 = knn_k5.predict(X_test)\n",
    "\n",
    "    # Calculate the confusion matrices\n",
    "    cm_k1+= confusion_matrix(y_test, y_pred_1)\n",
    "    cm_k5+= confusion_matrix(y_test, y_pred_5)\n",
    "\n",
    "# Calculate the difference between the two confusion matrices\n",
>>>>>>> d365d99498eebc585160f13a7bd65d1c902195a2
    "cm_diff = cm_k1 - cm_k5\n",
    "\n",
    "plt.figure(figsize=(8, 6))\n",
    "plt.imshow(cm_diff, cmap='coolwarm', interpolation='nearest')\n",
    "plt.colorbar()\n",
    "plt.title(\"Difference in Cumulative Confusion Matrices (k=1 - k=5)\")\n",
    "plt.xticks(np.arange(len(np.unique(y))), np.unique(y), rotation=45)\n",
    "plt.yticks(np.arange(len(np.unique(y))), np.unique(y))\n",
    "plt.xlabel('Predicted')\n",
    "plt.ylabel('True')\n",
    "plt.show()\n"
   ]
  },
  {
   "cell_type": "markdown",
   "metadata": {},
   "source": [
    "### 3) [1.5v]\n",
    "\n",
    "**Considering the unique properties of column_diagnosis, identify three possible difficulties\n",
    "of naïve Bayes when learning from the given dataset.**\n"
   ]
  },
  {
   "cell_type": "markdown",
   "metadata": {},
   "source": []
  }
 ],
 "metadata": {
  "kernelspec": {
   "display_name": "Python 3",
   "language": "python",
   "name": "python3"
  },
  "language_info": {
   "codemirror_mode": {
    "name": "ipython",
    "version": 3
   },
   "file_extension": ".py",
   "mimetype": "text/x-python",
   "name": "python",
   "nbconvert_exporter": "python",
   "pygments_lexer": "ipython3",
   "version": "3.8.10"
  }
 },
 "nbformat": 4,
 "nbformat_minor": 2
}
