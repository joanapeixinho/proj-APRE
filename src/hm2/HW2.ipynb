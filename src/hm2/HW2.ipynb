{
 "cells": [
  {
   "cell_type": "markdown",
   "metadata": {},
   "source": [
    "# Homework I\n",
    "\n",
    "Joana Peixinho (ist1103335) & Miguel Fernandes (ist1103573)\n"
   ]
  },
  {
   "cell_type": "markdown",
   "metadata": {},
   "source": [
    "## I. Pen and Paper [13v]\n",
    "\n",
    "Consider the following dataset\n"
   ]
  },
  {
   "cell_type": "markdown",
   "metadata": {},
   "source": [
    "![Decision Tree](./decision_tree.png)\n"
   ]
  },
  {
   "cell_type": "markdown",
   "metadata": {},
   "source": [
    "## 1) Consider 𝐱1–𝐱7 to be training observations, 𝐱8–𝐱9 to be testing observations, 𝑦1– 𝑦5 to be input variables and 𝑦6 to be the target variable. Hint: you can use scipy.stats.multivariate_normal for multivariate distribution calculus\n",
    "\n",
    "### a.) [3.5v] Learn a Bayesian classifier assuming: i) {𝑦1, 𝑦2}, {𝑦3, 𝑦4} and {𝑦5} sets of independent variables (e.g., 𝑦1 ⫫ 𝑦3 yet 𝑦1 ⫫ 𝑦2), and  ii) 𝑦1 × 𝑦2 ∈ ℝ2 is normally distributed.  Show all parameters (distributions and priors for subsequent testing).\n",
    "\n"
   ]
  },
  {
   "cell_type": "code",
   "execution_count": 3,
   "metadata": {},
   "outputs": [
    {
     "name": "stdout",
     "output_type": "stream",
     "text": [
      "Means and Covariance for y1, y2 in Class A:\n",
      "[0.24 0.52]\n",
      "[[0.0064 0.0096]\n",
      " [0.0096 0.0336]]\n",
      "\n",
      "Means and Covariance for y1, y2 in Class B:\n",
      "[0.5925 0.3275]\n",
      "[[ 0.02289167 -0.00975833]\n",
      " [-0.00975833  0.03149167]]\n",
      "\n",
      "Parameters for Bivariate Normal Distribution 𝑦1 × 𝑦2 in Class A:\n",
      "Mean: [0.24 0.52]\n",
      "Covariance Matrix:\n",
      "[[0.0064 0.0096]\n",
      " [0.0096 0.0336]]\n",
      "\n",
      "Parameters for Bivariate Normal Distribution 𝑦1 × 𝑦2 in Class B:\n",
      "Mean: [0.5925 0.3275]\n",
      "Covariance Matrix:\n",
      "[[ 0.02289167 -0.00975833]\n",
      " [-0.00975833  0.03149167]]\n",
      "\n",
      "Prior Probabilities:\n",
      "P(y1): 0.42857142857142855\n",
      "P(y2): 0.5714285714285714\n"
     ]
    }
   ],
   "source": [
    "import numpy as np\n",
    "from scipy.stats import multivariate_normal\n",
    "\n",
    "# Training data for y1, y2, y3, y4, y5, y6\n",
    "train_data = np.array([\n",
    "    [0.24, 0.36, 1, 1, 0, 'A'],\n",
    "    [0.16, 0.48, 1, 0, 1, 'A'],\n",
    "    [0.32, 0.72, 0, 1, 2, 'A'],\n",
    "    [0.54, 0.11, 0, 0, 1, 'B'],\n",
    "    [0.66, 0.39, 0, 0, 0, 'B'],\n",
    "    [0.76, 0.28, 1, 0, 2, 'B'],\n",
    "    [0.41, 0.53, 0, 1, 1, 'B']\n",
    "])\n",
    "\n",
    "# Separate data by class A and B\n",
    "class_A_data = train_data[train_data[:, -1] == 'A'][:, :-1].astype(float)\n",
    "class_B_data = train_data[train_data[:, -1] == 'B'][:, :-1].astype(float)\n",
    "\n",
    "# Calculate means and covariance matrices for y1, y2, y3, y4, y5 in class A and B\n",
    "mean_A = np.mean(class_A_data, axis=0)\n",
    "mean_B = np.mean(class_B_data, axis=0)\n",
    "cov_A = np.cov(class_A_data, rowvar=False)\n",
    "cov_B = np.cov(class_B_data, rowvar=False)\n",
    "\n",
    "# Assuming 𝑦1 × 𝑦2 is normally distributed, estimate the parameters for this bivariate normal distribution\n",
    "mean_y1_y2_A = mean_A[:2]  # Mean of {𝑦1, 𝑦2} in class A\n",
    "mean_y1_y2_B = mean_B[:2]  # Mean of {𝑦1, 𝑦2} in class B\n",
    "\n",
    "cov_y1_y2_A = cov_A[:2, :2]  # Covariance matrix of {𝑦1, 𝑦2} in class A\n",
    "cov_y1_y2_B = cov_B[:2, :2]  # Covariance matrix of {𝑦1, 𝑦2} in class B\n",
    "\n",
    "# Calculate prior probabilities\n",
    "prior_A = len(class_A_data) / len(train_data)\n",
    "prior_B = len(class_B_data) / len(train_data)\n",
    "\n",
    "# Define multivariate normal distributions for y1, y2, y3, y4, y5, and y6\n",
    "mvn_y1_A = multivariate_normal(mean=mean_A[0], cov=cov_A[0, 0])\n",
    "mvn_y2_A = multivariate_normal(mean=mean_A[1], cov=cov_A[1, 1])\n",
    "mvn_y3_A = multivariate_normal(mean=mean_A[2], cov=cov_A[2, 2])\n",
    "mvn_y4_A = multivariate_normal(mean=mean_A[3], cov=cov_A[3, 3])\n",
    "mvn_y5_A = multivariate_normal(mean=mean_A[4], cov=cov_A[4, 4])\n",
    "\n",
    "mvn_y1_B = multivariate_normal(mean=mean_B[0], cov=cov_B[0, 0])\n",
    "mvn_y2_B = multivariate_normal(mean=mean_B[1], cov=cov_B[1, 1])\n",
    "mvn_y3_B = multivariate_normal(mean=mean_B[2], cov=cov_B[2, 2])\n",
    "mvn_y4_B = multivariate_normal(mean=mean_B[3], cov=cov_B[3, 3])\n",
    "mvn_y5_B = multivariate_normal(mean=mean_B[4], cov=cov_B[4, 4])\n",
    "\n",
    "# Print the calculated parameters and prior probabilities\n",
    "print(\"Means and Covariance for y1, y2 in Class A:\")\n",
    "print(mean_A[:2])\n",
    "print(cov_A[:2, :2])\n",
    "print(\"\\nMeans and Covariance for y1, y2 in Class B:\")\n",
    "print(mean_B[:2])\n",
    "print(cov_B[:2, :2])\n",
    "print(\"\\nParameters for Bivariate Normal Distribution 𝑦1 × 𝑦2 in Class A:\")\n",
    "print(\"Mean:\", mean_y1_y2_A)\n",
    "print(\"Covariance Matrix:\")\n",
    "print(cov_y1_y2_A)\n",
    "print(\"\\nParameters for Bivariate Normal Distribution 𝑦1 × 𝑦2 in Class B:\")\n",
    "print(\"Mean:\", mean_y1_y2_B)\n",
    "print(\"Covariance Matrix:\")\n",
    "print(cov_y1_y2_B)\n",
    "print(\"\\nPrior Probabilities:\")\n",
    "print(\"P(y1):\", prior_A)\n",
    "print(\"P(y2):\", prior_B)\n"
   ]
  },
  {
   "cell_type": "markdown",
   "metadata": {},
   "source": [
    "### b.) [2.5v] Under a MAP assumption, classify each testing observation showing all your calculus.\n"
   ]
  },
  {
   "cell_type": "markdown",
   "metadata": {},
   "source": [
    "### c.) [2v] Consider that the default decision threshold of 𝜃 = 0.5 can be adjusted according to 𝑓(𝐱|𝜃) = { A 𝑃(A|𝐱) > 𝜃 B otherwise . Under a maximum likelihood assumption, what thresholds optimize testing accuracy?"
   ]
  },
  {
   "cell_type": "markdown",
   "metadata": {},
   "source": [
    "### 2) Let 𝑦1 be the target numeric variable, 𝑦2-𝑦6 be the input variables where 𝑦2 is binarized under an equal-width (equal-range) discretization. For the evaluation of regressors, consider a 3-fold cross-validation over the full dataset (𝐱1- 𝐱9) without shuffling the observations.\n",
    "\n",
    "a. [1v] Identify the observations and features per data fold after the binarization procedure.\n",
    "\n",
    "b. [4v] Consider a distance-weighted 𝑘NN with 𝑘 = 3, Hamming distance (𝑑), and 1/𝑑 weighting. Compute the MAE of this 𝑘NN regressor for the 1st iteration of the cross-validation (i.e. train observations have the lower indices).\n"
   ]
  },
  {
   "cell_type": "markdown",
   "metadata": {},
   "source": [
    "## Programming [7v]\n",
    "\n",
    "**Considering the column_diagnosis.arff dataset available at the course webpage’s homework tab.\n",
    "Using sklearn, apply a 10-fold stratified cross-validation with shuffling (random_state=0) for the\n",
    "assessment of predictive models along this section.**\n"
   ]
  },
  {
   "cell_type": "code",
   "execution_count": 7,
   "metadata": {},
   "outputs": [],
   "source": [
    "#Load the data\n",
    "\n",
    "import pandas as pd\n",
    "from scipy.io.arff import loadarff\n",
    "from sklearn.model_selection import cross_val_score, StratifiedKFold\n",
    "from sklearn.svm import SVC\n",
    "\n",
    "# Reading the ARFF file\n",
    "data = loadarff('column_diagnosis.arff')\n",
    "df = pd.DataFrame(data[0])\n",
    "df['class'] = df['class'].str.decode('utf-8')\n",
    "\n",
    "# Extract features and labels\n",
    "X = df.drop(columns=['class'])  # Features\n",
    "y = df['class']  # Labels\n",
    "\n",
    "\n",
    "# Perform 10-fold stratified cross-validation with shuffling\n",
    "stratified_kfold = StratifiedKFold(n_splits=10, shuffle=True, random_state=0)\n"
   ]
  },
  {
   "cell_type": "markdown",
   "metadata": {},
   "source": [
    "### 1) [3v]\n",
    "\n",
    "**Compare the performance of 𝑘NN with 𝑘 = 5 and naïve Bayes with Gaussian assumption\n",
    "(consider all remaining parameters for each classifier as sklearn’s default):\n",
    "a. Plot two boxplots with the fold accuracies for each classifier.\n",
    "b. Using scipy, test the hypothesis “𝑘NN is statistically superior to naïve Bayes regarding\n",
    "accuracy”, asserting whether is true**\n"
   ]
  },
  {
   "cell_type": "code",
   "execution_count": 9,
   "metadata": {},
   "outputs": [
    {
     "data": {
      "image/png": "[encoded data removed]",
      "text/plain": [
       "<Figure size 640x480 with 1 Axes>"
      ]
     },
     "metadata": {},
     "output_type": "display_data"
    }
   ],
   "source": [
    "#a) plot two boxplost with the fold accuracies for kNN with k=5 and naive Bayes with Gaussian assumptions\n",
    "# Plotting the boxplots\n",
    "import matplotlib.pyplot as plt\n",
    "from sklearn.naive_bayes import GaussianNB\n",
    "from sklearn.neighbors import KNeighborsClassifier\n",
    "\n",
    "# Create a list of classifiers\n",
    "classifiers = [\n",
    "    KNeighborsClassifier(n_neighbors=5),\n",
    "    GaussianNB()\n",
    "]\n",
    "\n",
    "# Create a list of classifier names\n",
    "classifier_names = [\n",
    "    'kNN (k=5)',\n",
    "    'Naive Bayes (Gaussian)'\n",
    "]\n",
    "\n",
    "# Create a list of classifier accuracies\n",
    "classifier_accuracies = []\n",
    "\n",
    "# Iterate through each classifier\n",
    "for classifier in classifiers:\n",
    "    # Perform 10-fold stratified cross-validation with shuffling\n",
    "    accuracies = cross_val_score(classifier, X, y, cv=stratified_kfold)\n",
    "    classifier_accuracies.append(accuracies)\n",
    "\n",
    "# Plotting the boxplots\n",
    "plt.boxplot(classifier_accuracies)\n",
    "plt.xticks(np.arange(1, len(classifier_names) + 1), classifier_names)\n",
    "plt.xlabel('Classifier')\n",
    "plt.ylabel('Accuracy')\n",
    "plt.title('10-fold Stratified Cross-Validation')\n",
    "plt.show()\n"
   ]
  },
  {
   "cell_type": "markdown",
   "metadata": {},
   "source": [
    "### 2) [2.5v]\n",
    "\n",
    "**Consider two 𝑘NN predictors with 𝑘 = 1 and 𝑘 = 5 (uniform weights, Euclidean distance,\n",
    "all remaining parameters as default). Plot the differences between the two cumulative confusion\n",
    "matrices of the predictors. Comment.**\n"
   ]
  },
  {
   "cell_type": "markdown",
   "metadata": {},
   "source": [
    "### 3) [1.5v]\n",
    "\n",
    "**Considering the unique properties of column_diagnosis, identify three possible difficulties\n",
    "of naïve Bayes when learning from the given dataset.**\n"
   ]
  },
  {
   "cell_type": "markdown",
   "metadata": {},
   "source": []
  }
 ],
 "metadata": {
  "kernelspec": {
   "display_name": "Python 3",
   "language": "python",
   "name": "python3"
  },
  "language_info": {
   "codemirror_mode": {
    "name": "ipython",
    "version": 3
   },
   "file_extension": ".py",
   "mimetype": "text/x-python",
   "name": "python",
   "nbconvert_exporter": "python",
   "pygments_lexer": "ipython3",
   "version": "3.8.10"
  }
 },
 "nbformat": 4,
 "nbformat_minor": 2
}
