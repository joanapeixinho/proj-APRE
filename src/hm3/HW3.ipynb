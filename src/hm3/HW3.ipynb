{
 "cells": [
  {
   "cell_type": "markdown",
   "metadata": {},
   "source": [
    "# Homework III\n",
    "\n",
    "Joana Peixinho (ist1103335) & Miguel Fernandes (ist1103573)\n"
   ]
  },
  {
   "cell_type": "markdown",
   "metadata": {},
   "source": [
    "## I. Pen and Paper [12v]\n",
    "\n",
    "For questions in this group, show your numerical results with 5 decimals or scientific notation.\n",
    "Hint: we highly recommend the use of numpy (e.g., linalg.pinv for inverse) or other programmatic\n",
    "facilities to support the calculus involved in both questions (1) and (2).\n"
   ]
  },
  {
   "cell_type": "markdown",
   "metadata": {},
   "source": [
    "### 1) Consider the problem of learning a regression model from 4 bivariate observations{(0.7−0.3) , (0.40.5) , (−0.20.8) , (−0.40.3)} with targets (0.8, 0.6, 0.3, 0.3).\n",
    "\n",
    "**a.) . [4v] Given the radial basis function, 𝜙𝑗(𝑥) = 𝑒𝑥𝑝 (−(‖𝐱−𝒄𝑗‖^2)/2), that transforms the original space onto a new space characterized by the similarity of the original observations to the following data points, {𝒄1 = (0,0) , 𝒄2 = (1,−1) , 𝒄3 = (−1,1)}. Learn the Ridge regression (𝑙2 regularization) using the closed solution with 𝜆 = 0.1.**\n",
    "\n"
   ]
  },
  {
   "cell_type": "code",
   "execution_count": null,
   "metadata": {},
   "outputs": [],
   "source": [
    "import numpy as np\n",
    "\n",
    "# Given data\n",
    "observations = np.array([[0.7, -0.3], [0.4, 0.5], [-0.2, 0.8], [-0.4, 0.3]])\n",
    "targets = np.array([0.8, 0.6, 0.3, 0.3])\n",
    "c_points = np.array([[0, 0], [1, -1], [-1, 1]])\n",
    "λ = 0.1\n",
    "\n",
    "# Step 1: Compute radial basis function features\n",
    "def radial_basis_function(x, c):\n",
    "    return np.exp(-np.linalg.norm(x - c)**2 / 2)\n",
    "\n",
    "phi = np.array([[radial_basis_function(x, c) for c in c_points] for x in observations])\n",
    "\n",
    "# Include a column of ones for the bias term in the feature matrix\n",
    "X = np.hstack((np.ones((observations.shape[0], 1)), phi))\n",
    "\n",
    "# Step 2: Set up Ridge regression problem\n",
    "y = targets.reshape(-1, 1)\n",
    "\n",
    "# Step 3: Solve for weights\n",
    "I = np.identity(X.shape[1])\n",
    "w = np.linalg.inv(X.T @ X + λ*I) @ X.T @ y\n",
    "\n",
    "# Extract the bias term w0\n",
    "w0 = w[0, 0]\n",
    "\n",
    "# Extract the other weights (w1, w2, ..., wn)\n",
    "weights = w[1:]\n",
    "\n",
    "# Print the weights\n",
    "print(\"Matrix X:\")\n",
    "print(np.around(X, decimals=5))\n",
    "print(\"Vector y:\")\n",
    "print(y)\n",
    "print(\"Weights:\")\n",
    "print(np.around(w, decimals=5))\n"
   ]
  },
  {
   "cell_type": "markdown",
   "metadata": {},
   "source": [
    "**b.) [2v] Compute the training RMSE for the learnt regression.**\n"
   ]
  },
  {
   "cell_type": "code",
   "execution_count": null,
   "metadata": {},
   "outputs": [],
   "source": [
    "# Calculate the Root Mean Square Error\n",
    "y_pred = X @ w\n",
    "RMSE = np.sqrt(np.mean((y - y_pred)**2))\n",
    "print(\"Predicted targets:\")\n",
    "print(np.around(y_pred, decimals=5))\n",
    "print(\"RMSE:\", np.around(RMSE, decimals=5))"
   ]
  },
  {
   "cell_type": "markdown",
   "metadata": {},
   "source": [
    "### 2) [6v] Consider a MLP classifier of three outcomes – 𝐴, 𝐵 and 𝐶 – characterized by the weights.\n"
   ]
  },
  {
   "cell_type": "markdown",
   "metadata": {},
   "source": [
    "![Rest of the Exercise](./I_2_exercise.png)"
   ]
  },
  {
   "cell_type": "markdown",
   "metadata": {},
   "source": [
    "## Programming [8v]\n",
    "\n",
    "**Consider the winequality-red.csv dataset (available at the webpage) where the goal is to estimate\n",
    "the quality (sensory appreciation) of a wine based on physicochemical inputs.\n",
    "Using a 80-20 training-test split with a fixed seed (random_state=0), you are asked to learn MLP\n",
    "regressors to answer the following questions.\n",
    "Given their stochastic behavior, average the performance of each MLP from 10 runs\n",
    "(for reproducibility consider seeding the MLPs with random_state ∈ {1. .10}).**\n"
   ]
  },
  {
   "cell_type": "code",
   "execution_count": null,
   "metadata": {},
   "outputs": [],
   "source": [
    "import pandas as pd\n",
    "from sklearn.model_selection import train_test_split\n",
    "from sklearn.preprocessing import StandardScaler\n",
    "from sklearn.neural_network import MLPRegressor\n",
    "from sklearn.metrics import mean_squared_error, r2_score\n",
    "import numpy as np\n",
    "\n",
    "# Load the dataset\n",
    "data = pd.read_csv(\"winequality-red.csv\", sep=\";\")\n",
    "\n",
    "# Split the data into training and testing sets\n",
    "train, test = train_test_split(data, test_size=0.2, random_state=0)\n",
    "\n",
    "# Split the dataset into features (X) and target variable (y) for both training and testing sets\n",
    "X_train = train.drop(columns=['quality'])\n",
    "y_train = train['quality']\n",
    "X_test = test.drop(columns=['quality'])\n",
    "y_test = test['quality']\n",
    "\n",
    "# Standardize the features using the same scaler for consistency\n",
    "scaler = StandardScaler()\n",
    "X_train = scaler.fit_transform(X_train)\n",
    "X_test = scaler.transform(X_test)\n",
    "\n"
   ]
  },
  {
   "cell_type": "markdown",
   "metadata": {},
   "source": [
    "### 1) [3.5v]\n",
    "\n",
    "**Learn a MLP regressor with 2 hidden layers of size 10, rectifier linear unit activation\n",
    "on all nodes, and early stopping with 20% of training data set aside for validation. All\n",
    "remaining parameters (e.g., loss, batch size, regularization term, solver) should be set as\n",
    "default. Plot the distribution of the residues (in absolute value) using a histogram.**\n"
   ]
  },
  {
   "cell_type": "code",
   "execution_count": 8,
   "metadata": {},
   "outputs": [
    {
     "name": "stderr",
     "output_type": "stream",
     "text": [
      "/home/joanapeixinho/uni/third_year/apre/venv/lib/python3.8/site-packages/sklearn/neural_network/_multilayer_perceptron.py:691: ConvergenceWarning: Stochastic Optimizer: Maximum iterations (200) reached and the optimization hasn't converged yet.\n",
      "  warnings.warn(\n"
     ]
    },
    {
     "data": {
      "image/png": "[encoded data removed]",
      "text/plain": [
       "<Figure size 640x480 with 1 Axes>"
      ]
     },
     "metadata": {},
     "output_type": "display_data"
    }
   ],
   "source": [
    "import matplotlib.pyplot as plt\n",
    "\n",
    "\n",
    "mlp = MLPRegressor(hidden_layer_sizes=(10, 10), activation='relu', early_stopping=True, validation_fraction=0.2, random_state=0)\n",
    "mlp.fit(X_train, y_train)\n",
    "\n",
    "y_pred = mlp.predict(X_test)\n",
    "residuals = np.abs(y_test - y_pred)\n",
    "\n",
    "plt.hist(residuals, bins=20, edgecolor='k')\n",
    "plt.title(\"Distribution of Residuals\")\n",
    "plt.xlabel(\"Residual (Absolute Value)\")\n",
    "plt.ylabel(\"Frequency\")\n",
    "plt.show()\n",
    "\n"
   ]
  },
  {
   "cell_type": "markdown",
   "metadata": {},
   "source": [
    "### 2) [1.5v]\n",
    "\n",
    "**Since we are in the presence of a integer regression task, a recommended trick is to\n",
    "round and bound estimates. Assess the impact of these operations on the MAE of the MLP\n",
    "learnt in previous question.**"
   ]
  },
  {
   "cell_type": "code",
   "execution_count": 11,
   "metadata": {},
   "outputs": [
    {
     "name": "stdout",
     "output_type": "stream",
     "text": [
      "Original MAE: 0.5297963192092466\n"
     ]
    }
   ],
   "source": [
    "from sklearn.metrics import mean_absolute_error\n",
    "\n",
    "# Calculate the MAE of the original predictions\n",
    "original_mae = mean_absolute_error(y_val, y_pred)\n",
    "\n",
    "print(f'Original MAE: {original_mae}')"
   ]
  },
  {
   "cell_type": "code",
   "execution_count": 10,
   "metadata": {},
   "outputs": [
    {
     "name": "stdout",
     "output_type": "stream",
     "text": [
      "MAE of rounded predictions: 0.478125\n"
     ]
    },
    {
     "name": "stderr",
     "output_type": "stream",
     "text": [
      "/home/joanapeixinho/uni/third_year/apre/venv/lib/python3.8/site-packages/sklearn/neural_network/_multilayer_perceptron.py:691: ConvergenceWarning: Stochastic Optimizer: Maximum iterations (200) reached and the optimization hasn't converged yet.\n",
      "  warnings.warn(\n"
     ]
    }
   ],
   "source": [
    "import matplotlib.pyplot as plt\n",
    "from sklearn.metrics import mean_absolute_error\n",
    "\n",
    "\n",
    "# Split the data into features (X) and target variable (y)\n",
    "X = data.drop(columns=['quality'])\n",
    "y = data['quality']\n",
    "\n",
    "\n",
    "# Split the data into training and validation sets (80% train, 20% validation)\n",
    "X_train, X_val, y_train, y_val = train_test_split(X, y, test_size=0.2, random_state = 0)\n",
    "# Create and train an MLP Regressor as in the previous question\n",
    "mlp = MLPRegressor(hidden_layer_sizes=(10, 10), activation='relu', early_stopping=True, validation_fraction=0.2)\n",
    "mlp.fit(X_train, y_train)\n",
    "\n",
    "# Make predictions on the validation set\n",
    "y_pred = mlp.predict(X_val)\n",
    "\n",
    "# Round the predicted values to the nearest integer\n",
    "rounded_predictions = [round(pred) for pred in y_pred]\n",
    "\n",
    "# Calculate the MAE of the rounded predictions\n",
    "mae = mean_absolute_error(y_val, rounded_predictions)\n",
    "\n",
    "print(f'MAE of rounded predictions: {mae}')"
   ]
  },
  {
   "cell_type": "markdown",
   "metadata": {},
   "source": [
    "### COMMENT:\n",
    "\n",
    "The MAE of the rounded predictions is lower than the original MAE. This indicates that rounding the model's predictions to the nearest integer has improved the model's performance in terms of MAE. In this specific integer regression task, rounding the predictions appears to be a beneficial strategy, as it has reduced the absolute prediction errors, making the model's predictions closer to the actual integer wine quality scores."
   ]
  },
  {
   "cell_type": "markdown",
   "metadata": {},
   "source": [
    "### 3) [1.5v]\n",
    "\n",
    "**Similarly assess the impact on RMSE from replacing early stopping by a well-defined\n",
    "number of iterations in {20,50,100,200} (where one iteration corresponds to a batch).**\n"
   ]
  },
  {
   "cell_type": "code",
   "execution_count": null,
   "metadata": {},
   "outputs": [],
   "source": [
    "def train_mlp_with_iterations(num_iterations):\n",
    "    mlp = MLPRegressor(max_iter=num_iterations, random_state=0)\n",
    "    mlp.fit(X_train, y_train)\n",
    "    \n",
    "    y_pred = mlp.predict(X_test)\n",
    "    rmse = np.sqrt(mean_squared_error(y_test, y_pred))\n",
    "    \n",
    "    return rmse\n",
    "\n",
    "iteration_values = [20, 50, 100, 200]\n",
    "\n",
    "rmse_values = []\n",
    "\n",
    "for num_iterations in iteration_values:\n",
    "    rmse = train_mlp_with_iterations(num_iterations)\n",
    "    rmse_values.append(rmse)\n",
    "\n",
    "# Print the RMSE values for different numbers of iterations\n",
    "for i, num_iterations in enumerate(iteration_values):\n",
    "    print(f'RMSE for {num_iterations} iterations: {rmse_values[i]}')"
   ]
  },
  {
   "cell_type": "markdown",
   "metadata": {},
   "source": [
    "### 4) [1.5v]\n",
    "\n",
    "**Critically comment the results obtained in previous question, hypothesizing at least\n",
    "one reason why early stopping favors and/or worsens performance.**\n"
   ]
  },
  {
   "cell_type": "markdown",
   "metadata": {},
   "source": [
    "In summary, as the number of training iterations increases, the RMSE decreases, which is a positive sign. Lower RMSE values suggest that the model is improving its ability to predict the target variable more accurately. It's important to monitor the RMSE during training to assess the model's convergence and to determine when it reaches a point of diminishing returns or starts to overfit the data.\n"
   ]
  }
 ],
 "metadata": {
  "kernelspec": {
   "display_name": "Python 3",
   "language": "python",
   "name": "python3"
  },
  "language_info": {
   "codemirror_mode": {
    "name": "ipython",
    "version": 3
   },
   "file_extension": ".py",
   "mimetype": "text/x-python",
   "name": "python",
   "nbconvert_exporter": "python",
   "pygments_lexer": "ipython3",
   "version": "3.8.10"
  }
 },
 "nbformat": 4,
 "nbformat_minor": 2
}
